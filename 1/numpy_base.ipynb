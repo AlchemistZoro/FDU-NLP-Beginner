{
 "cells": [
  {
   "cell_type": "code",
   "execution_count": 97,
   "metadata": {},
   "outputs": [],
   "source": [
    "import numpy as np\n",
    "import pandas as pd\n",
    "import seaborn as sns\n",
    "from tqdm import tqdm\n",
    "import random\n",
    "import matplotlib.pyplot as plt"
   ]
  },
  {
   "cell_type": "code",
   "execution_count": 98,
   "metadata": {},
   "outputs": [],
   "source": [
    "df=pd.read_csv('data/train.tsv', sep='\\t')\n",
    "df_test=pd.read_csv('data/test.tsv', sep='\\t')\n",
    "# df=df.head(1000)"
   ]
  },
  {
   "cell_type": "code",
   "execution_count": 99,
   "metadata": {},
   "outputs": [],
   "source": [
    "\n",
    "\n",
    "def BOW1_tokenize(data):\n",
    "    feature_set=set()\n",
    "    for row in data:\n",
    "        token_list=row.split()\n",
    "        for token in token_list:\n",
    "            feature_set.add(token)\n",
    "    return feature_set\n",
    "\n",
    "    \n",
    "# Bag of Word 特征提取，基于单词的特征模型。\n",
    "def BOW1_creat_feature(data,feature_set):\n",
    "    feature_size=len(feature_set)\n",
    "    feature_list=np.zeros((data.shape[0],feature_size)).astype('int16')\n",
    "    feature_map=dict(zip(feature_set,range(feature_size)))\n",
    "    for index in range(data.shape[0]):\n",
    "        token_list=data[index].split()\n",
    "        for token in token_list:\n",
    "            if token in feature_set:\n",
    "                feature_index=feature_map[token]\n",
    "                feature_list[index,feature_index]+=1\n",
    "    return feature_list\n"
   ]
  },
  {
   "cell_type": "code",
   "execution_count": 100,
   "metadata": {},
   "outputs": [],
   "source": [
    "\n",
    "\n",
    "def NGram_tokenize(data,ngram=2):\n",
    "    # ngram特征集合\n",
    "    feature_set=set()\n",
    "    for row in data:\n",
    "        token_list=row.split()\n",
    "        # 对每个词提取ngram特征\n",
    "        for token in token_list:\n",
    "            for i in range(len(token)-ngram):\n",
    "                feature_set.add(token[i:i+ngram])\n",
    "    return feature_set\n",
    "\n",
    "    \n",
    "def NGram_creat_feature(data,feature_set,ngram=2):\n",
    "\n",
    "    # NGram 特征提取。\n",
    "    \n",
    "    feature_size=len(feature_set)\n",
    "    feature_list=np.zeros((data.shape[0],feature_size)).astype('int16')\n",
    "    feature_map=dict(zip(feature_set,range(feature_size)))\n",
    "    for index in range(data.shape[0]):\n",
    "        token_list=data[index].split()\n",
    "        for token in token_list:\n",
    "            for i in range(len(token)-ngram):\n",
    "                gram=token[i:i+ngram]\n",
    "                if gram in feature_set:\n",
    "                    feature_index=feature_map[gram]\n",
    "                    feature_list[index,feature_index]+=1\n",
    "    return feature_list\n"
   ]
  },
  {
   "cell_type": "code",
   "execution_count": 101,
   "metadata": {},
   "outputs": [],
   "source": [
    "def CreateFeature(ngram=2,analyzer='word'):\n",
    "    if analyzer=='word':\n",
    "        feature_set=BOW1_tokenize(data=df['Phrase'].to_numpy())\n",
    "        X=BOW1_creat_feature(data=df['Phrase'].to_numpy(),feature_set=feature_set)\n",
    "        test_X=BOW1_creat_feature(data=df_test['Phrase'].to_numpy(),feature_set=feature_set)\n",
    "    if analyzer=='char':\n",
    "        feature_set=NGram_tokenize(data=df['Phrase'].to_numpy(),ngram=ngram)\n",
    "        X=NGram_creat_feature(data=df['Phrase'].to_numpy(),feature_set=feature_set,ngram=ngram)\n",
    "        test_X=NGram_creat_feature(data=df_test['Phrase'].to_numpy(),feature_set=feature_set,ngram=ngram)\n",
    "    return feature_set,X,test_X"
   ]
  },
  {
   "cell_type": "code",
   "execution_count": 102,
   "metadata": {},
   "outputs": [],
   "source": [
    "def train_test_split(X,y,test_rate):\n",
    "    X_size=X.shape[0]\n",
    "    train_size=int((1-test_rate)*X_size)\n",
    "    index = [i for i in range(X_size)] \n",
    "    # print(train_size)\n",
    "    random.shuffle(index)\n",
    "    train_X = X[index][0:train_size]\n",
    "    train_y = y[index][0:train_size]\n",
    "    val_X = X[index][train_size+1:-1]\n",
    "    val_y = y[index][train_size+1:-1]\n",
    "    # print(train_X.shape,val_X.shape,train_y.shape,val_y.shape)\n",
    "    return train_X,val_X,train_y,val_y\n",
    "\n",
    "\n"
   ]
  },
  {
   "cell_type": "code",
   "execution_count": 103,
   "metadata": {},
   "outputs": [],
   "source": [
    "\n",
    "\n",
    "# def train(batchsize=32,lr=1e0,epoch_number=100):\n",
    "#     iter_number=train_X.shape[0]//batchsize\n",
    "#     iter_remain=train_X.shape[0]%batchsize\n",
    "#     weight=np.zeros((train_X.shape[1],class_number))\n",
    "#     # 不同初始值的影响\n",
    "#     # weight=np.random.normal(0,1,[train_X.shape[1],class_number])\n",
    "#     loss_list=[]\n",
    "#     for i in range(epoch_number):\n",
    "#         loss=0\n",
    "#         for j in tqdm(range(iter_number)):\n",
    "#             train_data=train_X[j*batchsize:j*batchsize+batchsize]\n",
    "#             train_label=train_y[j*batchsize:j*batchsize+batchsize]\n",
    "#             weight_temp=np.zeros((train_X.shape[1],class_number))\n",
    "#             for z in range(batchsize):\n",
    "#                 y=train_label[z]               \n",
    "#                 y_hat=np.exp(train_data[z].dot(weight))/np.sum(np.exp(train_data[z].dot(weight)))\n",
    "#                 loss+= (-1/train_X.shape[0])*np.sum(np.multiply(y,np.log10(y_hat)))\n",
    "#                 weight_temp+=(lr/batchsize)*np.outer(train_data[z],(y-y_hat))\n",
    "#             weight+=weight_temp\n",
    "#         print(loss)\n",
    "#         loss_list.append(loss)\n",
    "        \n",
    "#     return loss_list,weight\n",
    "\n",
    "# 矩阵乘法加速\n",
    "def train_faster(train_X,train_y,val_X,val_y,batchsize=32,lr=1e0,epoch_number=100):\n",
    "    iter_number=train_X.shape[0]//batchsize\n",
    "    iter_remain=train_X.shape[0]%batchsize\n",
    "    weight=np.zeros((train_X.shape[1],class_number))\n",
    "    # 不同初始值的影响\n",
    "    # weight=np.random.normal(0,1,[train_X.shape[1],class_number])\n",
    "    train_loss_list=[]\n",
    "    test_loss_list=[]\n",
    "    for i in range(epoch_number):\n",
    "        train_loss=0\n",
    "        test_loss=0\n",
    "        for j in tqdm(range(iter_number)):\n",
    "            train_data=train_X[j*batchsize:j*batchsize+batchsize]\n",
    "            y_train=train_y[j*batchsize:j*batchsize+batchsize]\n",
    "            y=np.exp(train_data.dot(weight))   \n",
    "            y_hat=np.divide(y.T,np.sum(y,axis=1)).T\n",
    "            train_loss+= (-1/train_X.shape[0])*np.sum(np.multiply(y_train,np.log10(y_hat)))\n",
    "            # 每个batch权重更新一次\n",
    "            weight+=(lr/batchsize)*train_data.T.dot(y_train-y_hat)\n",
    "       \n",
    "        y=np.exp(val_X.dot(weight))   \n",
    "        y_hat=np.divide(y.T,np.sum(y,axis=1)).T\n",
    "        test_loss= (-1/val_X.shape[0])*np.sum(np.multiply(val_y,np.log10(y_hat)))\n",
    "        # print('train_loss:',train_loss,\" test_loss:\",test_loss)\n",
    "        train_loss_list.append(train_loss)\n",
    "        test_loss_list.append(test_loss)\n",
    "    \n",
    "    return train_loss_list,test_loss_list,weight\n"
   ]
  },
  {
   "cell_type": "code",
   "execution_count": 104,
   "metadata": {},
   "outputs": [],
   "source": [
    "def drawpic(train_loss_list=[],test_loss_list=[],epoch_number=10,path='1.jpg'):\n",
    "    # make data\n",
    "    x = [i for i in range(epoch_number)]\n",
    "    # plot\n",
    "    fig, ax = plt.subplots()\n",
    "    ax.plot(x, train_loss_list, linewidth=2.0)\n",
    "    ax.plot(x, test_loss_list, linewidth=2.0)\n",
    "    plt.savefig(path)\n",
    "    plt.show()\n",
    " "
   ]
  },
  {
   "cell_type": "code",
   "execution_count": 105,
   "metadata": {},
   "outputs": [],
   "source": [
    "class_number=5\n",
    "y=df['Sentiment'].to_numpy()\n",
    "y_onehot=np.zeros((y.shape[0],class_number)).astype('int16')\n",
    "for i in range(y.shape[0]):\n",
    "    y_onehot[i,y[i]]+=1\n",
    "\n",
    "\n",
    "\n",
    "parameter_list=[\n",
    "    {'ngram':2,'analyzer':'word','batchsize':32,\"lr\":1e0,'epoch_number':20,'test_rate':0.2},\n",
    "    {'ngram':2,'analyzer':'char','batchsize':32,\"lr\":1e0,'epoch_number':20,'test_rate':0.2},\n",
    "    {'ngram':3,'analyzer':'char','batchsize':32,\"lr\":1e0,'epoch_number':20,'test_rate':0.2},\n",
    "    {'ngram':2,'analyzer':'word','batchsize':8,\"lr\":1e0,'epoch_number':20,'test_rate':0.2},\n",
    "    {'ngram':2,'analyzer':'word','batchsize':128,\"lr\":1e0,'epoch_number':20,'test_rate':0.2},\n",
    "    {'ngram':2,'analyzer':'word','batchsize':32,\"lr\":1e1,'epoch_number':20,'test_rate':0.2},\n",
    "    {'ngram':2,'analyzer':'word','batchsize':32,\"lr\":1e0,'epoch_number':10,'test_rate':0.2},\n",
    "\n",
    "]\n",
    "\n",
    "def flow(parameter_list):\n",
    "    for parameter_dict in parameter_list:\n",
    "        \n",
    "        ngram=parameter_dict['ngram']\n",
    "        analyzer=parameter_dict['analyzer']\n",
    "        batchsize=parameter_dict['batchsize']\n",
    "        lr=parameter_dict['lr']\n",
    "        epoch_number=parameter_dict['epoch_number']\n",
    "        test_rate=parameter_dict['test_rate']\n",
    "\n",
    "        \n",
    "        feature_set,X,test_X=CreateFeature(ngram=ngram,analyzer=analyzer)\n",
    "\n",
    "        train_X,val_X,train_y,val_y=train_test_split(X,y_onehot,test_rate=test_rate)\n",
    "        train_loss_list,test_loss_list,weight=train_faster(train_X=train_X,train_y=train_y,val_X=val_X,val_y=val_y,batchsize=batchsize,lr=lr,epoch_number=epoch_number)\n",
    "        \n",
    "\n",
    "        y_temp=np.exp(val_X.dot(weight))   \n",
    "        y_temp=np.divide(y_temp.T,np.sum(y_temp,axis=1)).T\n",
    "        y_predict=np.array([np.argmax(i) for i in y_temp])\n",
    "        y_val=np.array([np.argmax(i) for i in val_y])\n",
    "\n",
    "        acc=np.sum(y_predict.astype('int')==y_val.astype('int'))/y_val.shape[0]\n",
    "        parameter_dict['acc']='%.4f' % acc\n",
    "        print('acc:',acc)\n",
    "\n",
    "        parameter_dict['best_train_loss']='%.4f' % np.min(train_loss_list) \n",
    "        parameter_dict['best_test_loss']='%.4f' % np.min(test_loss_list)\n",
    "        \n",
    "        print('train_loss:',parameter_dict['best_train_loss'],\" test_loss:\",parameter_dict['best_test_loss'])\n",
    "      \n",
    "        path='pic/ngram_{}-analyzer_{}-lr_{}-batchsize_{}-epoch_number_{}-test_rate_{}.jpg'.format(str(ngram),str(analyzer),str(lr),str(batchsize),str(epoch_number),str(test_rate))\n",
    "        parameter_dict['path']=path\n",
    "        print(path)\n",
    "        drawpic(train_loss_list=train_loss_list,test_loss_list=test_loss_list,epoch_number=epoch_number,path=path)\n",
    "    return parameter_list\n",
    "    \n",
    "\n"
   ]
  },
  {
   "cell_type": "code",
   "execution_count": 106,
   "metadata": {},
   "outputs": [
    {
     "name": "stderr",
     "output_type": "stream",
     "text": [
      "100%|██████████| 25/25 [00:00<00:00, 6265.02it/s]\n",
      "100%|██████████| 25/25 [00:00<00:00, 8356.52it/s]\n",
      "100%|██████████| 25/25 [00:00<00:00, 12535.28it/s]\n",
      "100%|██████████| 25/25 [00:00<00:00, 8353.86it/s]\n",
      "100%|██████████| 25/25 [00:00<00:00, 8353.86it/s]\n",
      "100%|██████████| 25/25 [00:00<00:00, 8358.52it/s]\n",
      "100%|██████████| 25/25 [00:00<00:00, 6266.14it/s]\n",
      "100%|██████████| 25/25 [00:00<00:00, 12524.80it/s]\n",
      "100%|██████████| 25/25 [00:00<00:00, 8352.53it/s]\n",
      "100%|██████████| 25/25 [00:00<00:00, 8349.86it/s]\n",
      "100%|██████████| 25/25 [00:00<00:00, 12580.40it/s]\n",
      "100%|██████████| 25/25 [00:00<00:00, 12521.81it/s]\n",
      "100%|██████████| 25/25 [00:00<00:00, 8375.88it/s]\n",
      "100%|██████████| 25/25 [00:00<00:00, 12349.26it/s]\n",
      "100%|██████████| 25/25 [00:00<00:00, 12349.26it/s]\n",
      "100%|██████████| 25/25 [00:00<00:00, 12530.78it/s]\n",
      "100%|██████████| 25/25 [00:00<00:00, 8357.18it/s]\n",
      "100%|██████████| 25/25 [00:00<00:00, 12535.28it/s]\n",
      "100%|██████████| 25/25 [00:00<00:00, 12342.00it/s]\n",
      "100%|██████████| 25/25 [00:00<00:00, 8266.92it/s]\n"
     ]
    },
    {
     "name": "stdout",
     "output_type": "stream",
     "text": [
      "acc: 0.494949494949495\n",
      "train_loss: 0.3815  test_loss: 0.5423\n",
      "pic/ngram_2-analyzer_word-lr_1.0-batchsize_32-epoch_number_20-test_rate_0.2.jpg\n"
     ]
    },
    {
     "data": {
      "image/png": "[encoded data removed]",
      "text/plain": [
       "<Figure size 432x288 with 1 Axes>"
      ]
     },
     "metadata": {
      "needs_background": "light"
     },
     "output_type": "display_data"
    },
    {
     "name": "stderr",
     "output_type": "stream",
     "text": [
      "100%|██████████| 25/25 [00:00<00:00, 12307.23it/s]\n",
      "100%|██████████| 25/25 [00:00<00:00, 25103.57it/s]\n",
      "100%|██████████| 25/25 [00:00<00:00, 12547.28it/s]\n",
      "100%|██████████| 25/25 [00:00<00:00, 8356.52it/s]\n",
      "100%|██████████| 25/25 [00:00<00:00, 12527.79it/s]\n",
      "100%|██████████| 25/25 [00:00<00:00, 12524.80it/s]\n",
      "100%|██████████| 25/25 [00:00<00:00, 6267.26it/s]\n",
      "100%|██████████| 25/25 [00:00<00:00, 8352.53it/s]\n",
      "100%|██████████| 25/25 [00:00<00:00, 12523.30it/s]\n",
      "100%|██████████| 25/25 [00:00<00:00, 12397.45it/s]\n",
      "100%|██████████| 25/25 [00:00<00:00, 8373.20it/s]\n",
      "100%|██████████| 25/25 [00:00<00:00, 12536.78it/s]\n",
      "100%|██████████| 25/25 [00:00<00:00, 12532.28it/s]\n",
      "100%|██████████| 25/25 [00:00<00:00, 12533.78it/s]\n",
      "100%|██████████| 25/25 [00:00<00:00, 8391.29it/s]\n",
      "100%|██████████| 25/25 [00:00<00:00, 8355.85it/s]\n",
      "100%|██████████| 25/25 [00:00<00:00, 12532.28it/s]\n",
      "100%|██████████| 25/25 [00:00<00:00, 8358.52it/s]\n",
      "100%|██████████| 25/25 [00:00<00:00, 12532.28it/s]\n",
      "100%|██████████| 25/25 [00:00<00:00, 12523.30it/s]\n"
     ]
    },
    {
     "name": "stdout",
     "output_type": "stream",
     "text": [
      "acc: 0.494949494949495\n",
      "train_loss: 0.4033  test_loss: 0.5376\n",
      "pic/ngram_2-analyzer_char-lr_1.0-batchsize_32-epoch_number_20-test_rate_0.2.jpg\n"
     ]
    },
    {
     "data": {
      "image/png": "[encoded data removed]",
      "text/plain": [
       "<Figure size 432x288 with 1 Axes>"
      ]
     },
     "metadata": {
      "needs_background": "light"
     },
     "output_type": "display_data"
    },
    {
     "name": "stderr",
     "output_type": "stream",
     "text": [
      "100%|██████████| 25/25 [00:00<00:00, 1460.27it/s]\n",
      "100%|██████████| 25/25 [00:00<00:00, 6611.87it/s]\n",
      "100%|██████████| 25/25 [00:00<00:00, 8359.85it/s]\n",
      "100%|██████████| 25/25 [00:00<00:00, 5012.31it/s]\n",
      "100%|██████████| 25/25 [00:00<00:00, 6283.04it/s]\n",
      "100%|██████████| 25/25 [00:00<00:00, 2779.38it/s]\n",
      "100%|██████████| 25/25 [00:00<00:00, 6271.01it/s]\n",
      "100%|██████████| 25/25 [00:00<00:00, 8355.19it/s]\n",
      "100%|██████████| 25/25 [00:00<00:00, 12536.78it/s]\n",
      "100%|██████████| 25/25 [00:00<00:00, 8355.85it/s]\n",
      "100%|██████████| 25/25 [00:00<00:00, 9875.46it/s]\n",
      "100%|██████████| 25/25 [00:00<00:00, 8126.61it/s]\n",
      "100%|██████████| 25/25 [00:00<00:00, 6180.82it/s]\n",
      "100%|██████████| 25/25 [00:00<00:00, 5837.42it/s]\n",
      "100%|██████████| 25/25 [00:00<00:00, 9542.05it/s]\n",
      "100%|██████████| 25/25 [00:00<00:00, 7423.02it/s]\n",
      "100%|██████████| 25/25 [00:00<00:00, 9910.93it/s]\n",
      "100%|██████████| 25/25 [00:00<00:00, 5349.88it/s]\n",
      "100%|██████████| 25/25 [00:00<00:00, 10946.61it/s]\n",
      "100%|██████████| 25/25 [00:00<00:00, 5826.72it/s]\n"
     ]
    },
    {
     "name": "stdout",
     "output_type": "stream",
     "text": [
      "acc: 0.5303030303030303\n",
      "train_loss: 0.3559  test_loss: 0.5807\n",
      "pic/ngram_3-analyzer_char-lr_1.0-batchsize_32-epoch_number_20-test_rate_0.2.jpg\n"
     ]
    },
    {
     "data": {
      "image/png": "[encoded data removed]",
      "text/plain": [
       "<Figure size 432x288 with 1 Axes>"
      ]
     },
     "metadata": {
      "needs_background": "light"
     },
     "output_type": "display_data"
    },
    {
     "name": "stderr",
     "output_type": "stream",
     "text": [
      "100%|██████████| 100/100 [00:00<00:00, 20056.92it/s]\n",
      "100%|██████████| 100/100 [00:00<00:00, 16537.75it/s]\n",
      "100%|██████████| 100/100 [00:00<00:00, 16703.72it/s]\n",
      "100%|██████████| 100/100 [00:00<00:00, 12546.90it/s]\n",
      "100%|██████████| 100/100 [00:00<00:00, 16711.71it/s]\n",
      "100%|██████████| 100/100 [00:00<00:00, 16711.71it/s]\n",
      "100%|██████████| 100/100 [00:00<00:00, 14354.22it/s]\n",
      "100%|██████████| 100/100 [00:00<00:00, 20054.05it/s]\n",
      "100%|██████████| 100/100 [00:00<00:00, 16706.38it/s]\n",
      "100%|██████████| 100/100 [00:00<00:00, 20120.43it/s]\n",
      "100%|██████████| 100/100 [00:00<00:00, 12502.77it/s]\n",
      "100%|██████████| 100/100 [00:00<00:00, 14323.83it/s]\n",
      "100%|██████████| 100/100 [00:00<00:00, 17683.31it/s]\n",
      "100%|██████████| 100/100 [00:00<00:00, 14327.74it/s]\n",
      "100%|██████████| 100/100 [00:00<00:00, 19051.16it/s]\n",
      "100%|██████████| 100/100 [00:00<00:00, 20055.01it/s]\n",
      "100%|██████████| 100/100 [00:00<00:00, 19499.32it/s]\n",
      "100%|██████████| 100/100 [00:00<00:00, 16711.71it/s]\n",
      "100%|██████████| 100/100 [00:00<00:00, 19986.20it/s]\n",
      "100%|██████████| 100/100 [00:00<00:00, 20055.97it/s]\n"
     ]
    },
    {
     "name": "stdout",
     "output_type": "stream",
     "text": [
      "acc: 0.5707070707070707\n",
      "train_loss: 0.3200  test_loss: 0.5200\n",
      "pic/ngram_2-analyzer_word-lr_1.0-batchsize_8-epoch_number_20-test_rate_0.2.jpg\n"
     ]
    },
    {
     "data": {
      "image/png": "[encoded data removed]",
      "text/plain": [
       "<Figure size 432x288 with 1 Axes>"
      ]
     },
     "metadata": {
      "needs_background": "light"
     },
     "output_type": "display_data"
    },
    {
     "name": "stderr",
     "output_type": "stream",
     "text": [
      "100%|██████████| 6/6 [00:00<00:00, 2005.72it/s]\n",
      "100%|██████████| 6/6 [00:00<00:00, 3008.83it/s]\n",
      "100%|██████████| 6/6 [00:00<00:00, 3005.59it/s]\n",
      "100%|██████████| 6/6 [00:00<00:00, 3004.87it/s]\n",
      "100%|██████████| 6/6 [00:00<00:00, 3008.11it/s]\n",
      "100%|██████████| 6/6 [00:00<00:00, 3008.11it/s]\n",
      "100%|██████████| 6/6 [00:00<00:00, 3008.83it/s]\n",
      "100%|██████████| 6/6 [00:00<00:00, 3008.47it/s]\n",
      "100%|██████████| 6/6 [00:00<00:00, 2961.73it/s]\n",
      "100%|██████████| 6/6 [00:00<00:00, 2004.29it/s]\n",
      "100%|██████████| 6/6 [00:00<00:00, 3005.59it/s]\n",
      "100%|██████████| 6/6 [00:00<00:00, 2005.09it/s]\n",
      "100%|██████████| 6/6 [00:00<00:00, 3008.11it/s]\n",
      "100%|██████████| 6/6 [00:00<00:00, 3008.11it/s]\n",
      "100%|██████████| 6/6 [00:00<00:00, 3007.75it/s]\n",
      "100%|██████████| 6/6 [00:00<00:00, 3008.83it/s]\n",
      "100%|██████████| 6/6 [00:00<00:00, 3008.47it/s]\n",
      "100%|██████████| 6/6 [00:00<00:00, 3004.16it/s]\n",
      "100%|██████████| 6/6 [00:00<00:00, 6009.03it/s]\n",
      "100%|██████████| 6/6 [00:00<00:00, 6013.34it/s]\n"
     ]
    },
    {
     "name": "stdout",
     "output_type": "stream",
     "text": [
      "acc: 0.5\n",
      "train_loss: 0.4699  test_loss: 0.5582\n",
      "pic/ngram_2-analyzer_word-lr_1.0-batchsize_128-epoch_number_20-test_rate_0.2.jpg\n"
     ]
    },
    {
     "data": {
      "image/png": "[encoded data removed]",
      "text/plain": [
       "<Figure size 432x288 with 1 Axes>"
      ]
     },
     "metadata": {
      "needs_background": "light"
     },
     "output_type": "display_data"
    },
    {
     "name": "stderr",
     "output_type": "stream",
     "text": [
      "100%|██████████| 25/25 [00:00<00:00, 12302.90it/s]\n",
      "100%|██████████| 25/25 [00:00<00:00, 6532.37it/s]\n",
      "100%|██████████| 25/25 [00:00<00:00, 12654.79it/s]\n",
      "100%|██████████| 25/25 [00:00<00:00, 8351.86it/s]\n",
      "100%|██████████| 25/25 [00:00<00:00, 12347.81it/s]\n",
      "100%|██████████| 25/25 [00:00<00:00, 8271.48it/s]\n",
      "100%|██████████| 25/25 [00:00<00:00, 8361.85it/s]\n",
      "100%|██████████| 25/25 [00:00<00:00, 8370.53it/s]\n",
      "100%|██████████| 25/25 [00:00<00:00, 8383.24it/s]\n",
      "100%|██████████| 25/25 [00:00<00:00, 8357.18it/s]\n",
      "100%|██████████| 25/25 [00:00<00:00, 6267.26it/s]\n",
      "100%|██████████| 25/25 [00:00<00:00, 8355.19it/s]\n",
      "100%|██████████| 25/25 [00:00<00:00, 8357.18it/s]\n",
      "100%|██████████| 25/25 [00:00<00:00, 6281.91it/s]\n",
      "100%|██████████| 25/25 [00:00<00:00, 12630.40it/s]\n",
      "100%|██████████| 25/25 [00:00<00:00, 8353.86it/s]\n",
      "100%|██████████| 25/25 [00:00<00:00, 6266.89it/s]\n",
      "100%|██████████| 25/25 [00:00<00:00, 12533.78it/s]\n",
      "100%|██████████| 25/25 [00:00<00:00, 8360.52it/s]\n",
      "100%|██████████| 25/25 [00:00<00:00, 12533.78it/s]\n"
     ]
    },
    {
     "name": "stdout",
     "output_type": "stream",
     "text": [
      "acc: 0.494949494949495\n",
      "train_loss: 0.2863  test_loss: 0.6994\n",
      "pic/ngram_2-analyzer_word-lr_10.0-batchsize_32-epoch_number_20-test_rate_0.2.jpg\n"
     ]
    },
    {
     "data": {
      "image/png": "[encoded data removed]",
      "text/plain": [
       "<Figure size 432x288 with 1 Axes>"
      ]
     },
     "metadata": {
      "needs_background": "light"
     },
     "output_type": "display_data"
    },
    {
     "name": "stderr",
     "output_type": "stream",
     "text": [
      "100%|██████████| 25/25 [00:00<00:00, 12343.45it/s]\n",
      "100%|██████████| 25/25 [00:00<00:00, 8351.19it/s]\n",
      "100%|██████████| 25/25 [00:00<00:00, 6268.76it/s]\n",
      "100%|██████████| 25/25 [00:00<00:00, 12349.26it/s]\n",
      "100%|██████████| 25/25 [00:00<00:00, 8359.85it/s]\n",
      "100%|██████████| 25/25 [00:00<00:00, 8353.86it/s]\n",
      "100%|██████████| 25/25 [00:00<00:00, 8351.19it/s]\n",
      "100%|██████████| 25/25 [00:00<00:00, 12532.28it/s]\n",
      "100%|██████████| 25/25 [00:00<00:00, 8351.86it/s]\n",
      "100%|██████████| 25/25 [00:00<00:00, 8363.18it/s]"
     ]
    },
    {
     "name": "stdout",
     "output_type": "stream",
     "text": [
      "acc: 0.5707070707070707\n",
      "train_loss: 0.4530  test_loss: 0.5318\n",
      "pic/ngram_2-analyzer_word-lr_1.0-batchsize_32-epoch_number_10-test_rate_0.2.jpg\n"
     ]
    },
    {
     "name": "stderr",
     "output_type": "stream",
     "text": [
      "\n"
     ]
    },
    {
     "data": {
      "image/png": "[encoded data removed]",
      "text/plain": [
       "<Figure size 432x288 with 1 Axes>"
      ]
     },
     "metadata": {
      "needs_background": "light"
     },
     "output_type": "display_data"
    }
   ],
   "source": [
    "parameter_list=flow(parameter_list)"
   ]
  },
  {
   "cell_type": "code",
   "execution_count": 107,
   "metadata": {},
   "outputs": [
    {
     "name": "stdout",
     "output_type": "stream",
     "text": [
      "{'ngram': 2, 'analyzer': 'word', 'batchsize': 32, 'lr': 1.0, 'epoch_number': 20, 'test_rate': 0.2, 'acc': '0.4949', 'best_train_loss': '0.3815', 'best_test_loss': '0.5423', 'path': 'pic/ngram_2-analyzer_word-lr_1.0-batchsize_32-epoch_number_20-test_rate_0.2.jpg'}\n",
      "{'ngram': 2, 'analyzer': 'char', 'batchsize': 32, 'lr': 1.0, 'epoch_number': 20, 'test_rate': 0.2, 'acc': '0.4949', 'best_train_loss': '0.4033', 'best_test_loss': '0.5376', 'path': 'pic/ngram_2-analyzer_char-lr_1.0-batchsize_32-epoch_number_20-test_rate_0.2.jpg'}\n",
      "{'ngram': 3, 'analyzer': 'char', 'batchsize': 32, 'lr': 1.0, 'epoch_number': 20, 'test_rate': 0.2, 'acc': '0.5303', 'best_train_loss': '0.3559', 'best_test_loss': '0.5807', 'path': 'pic/ngram_3-analyzer_char-lr_1.0-batchsize_32-epoch_number_20-test_rate_0.2.jpg'}\n",
      "{'ngram': 2, 'analyzer': 'word', 'batchsize': 8, 'lr': 1.0, 'epoch_number': 20, 'test_rate': 0.2, 'acc': '0.5707', 'best_train_loss': '0.3200', 'best_test_loss': '0.5200', 'path': 'pic/ngram_2-analyzer_word-lr_1.0-batchsize_8-epoch_number_20-test_rate_0.2.jpg'}\n",
      "{'ngram': 2, 'analyzer': 'word', 'batchsize': 128, 'lr': 1.0, 'epoch_number': 20, 'test_rate': 0.2, 'acc': '0.5000', 'best_train_loss': '0.4699', 'best_test_loss': '0.5582', 'path': 'pic/ngram_2-analyzer_word-lr_1.0-batchsize_128-epoch_number_20-test_rate_0.2.jpg'}\n",
      "{'ngram': 2, 'analyzer': 'word', 'batchsize': 32, 'lr': 10.0, 'epoch_number': 20, 'test_rate': 0.2, 'acc': '0.4949', 'best_train_loss': '0.2863', 'best_test_loss': '0.6994', 'path': 'pic/ngram_2-analyzer_word-lr_10.0-batchsize_32-epoch_number_20-test_rate_0.2.jpg'}\n",
      "{'ngram': 2, 'analyzer': 'word', 'batchsize': 32, 'lr': 1.0, 'epoch_number': 10, 'test_rate': 0.2, 'acc': '0.5707', 'best_train_loss': '0.4530', 'best_test_loss': '0.5318', 'path': 'pic/ngram_2-analyzer_word-lr_1.0-batchsize_32-epoch_number_10-test_rate_0.2.jpg'}\n"
     ]
    }
   ],
   "source": [
    "for i in parameter_list:\n",
    "    print(i)"
   ]
  }
 ],
 "metadata": {
  "interpreter": {
   "hash": "b3ba2566441a7c06988d0923437866b63cedc61552a5af99d1f4fb67d367b25f"
  },
  "kernelspec": {
   "display_name": "Python 3.9.7 64-bit ('base': conda)",
   "language": "python",
   "name": "python3"
  },
  "language_info": {
   "codemirror_mode": {
    "name": "ipython",
    "version": 3
   },
   "file_extension": ".py",
   "mimetype": "text/x-python",
   "name": "python",
   "nbconvert_exporter": "python",
   "pygments_lexer": "ipython3",
   "version": "3.9.7"
  },
  "orig_nbformat": 4
 },
 "nbformat": 4,
 "nbformat_minor": 2
}
