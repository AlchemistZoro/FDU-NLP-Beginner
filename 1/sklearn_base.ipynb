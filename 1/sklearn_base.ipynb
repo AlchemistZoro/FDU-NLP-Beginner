{
 "cells": [
  {
   "cell_type": "code",
   "execution_count": 44,
   "metadata": {},
   "outputs": [],
   "source": [
    "import pandas as pd\n",
    "import numpy as np\n",
    "from sklearn.feature_extraction.text import CountVectorizer\n",
    "from sklearn.linear_model import LogisticRegression\n",
    "from sklearn.model_selection import train_test_split\n",
    "from sklearn.metrics import accuracy_score,precision_score,recall_score,f1_score"
   ]
  },
  {
   "cell_type": "code",
   "execution_count": 23,
   "metadata": {},
   "outputs": [],
   "source": [
    "df=pd.read_csv('data/train.tsv', sep='\\t')\n",
    "df_test=pd.read_csv('data/test.tsv', sep='\\t')"
   ]
  },
  {
   "cell_type": "code",
   "execution_count": 45,
   "metadata": {},
   "outputs": [],
   "source": [
    "#ngram_rangetuple (min_n, max_n), default=(1, 1)\n",
    "ngram_range=(1,1)\n",
    "#analyzer{‘word’, ‘char’, ‘char_wb’} or callable, default=’word’\n",
    "analyzer='word'\n",
    "\n",
    "vectorizer = CountVectorizer(ngram_range=ngram_range,analyzer=analyzer).fit(df['Phrase'])\n",
    "X=vectorizer.transform(df['Phrase'])\n",
    "y=df['Sentiment']\n",
    "test_X=vectorizer.transform(df_test['Phrase'])\n",
    "\n",
    "# shuffle:bool, default=True\n",
    "X_train, X_val, y_train, y_val = train_test_split( X, y, test_size=0.2, random_state=42,shuffle=True)"
   ]
  },
  {
   "cell_type": "code",
   "execution_count": 54,
   "metadata": {},
   "outputs": [
    {
     "name": "stderr",
     "output_type": "stream",
     "text": [
      "[Parallel(n_jobs=1)]: Using backend SequentialBackend with 1 concurrent workers.\n",
      "[Parallel(n_jobs=1)]: Done   1 out of   1 | elapsed:   38.4s finished\n"
     ]
    },
    {
     "data": {
      "text/plain": [
       "LogisticRegression(max_iter=1000, multi_class='multinomial', random_state=0,\n",
       "                   verbose=1)"
      ]
     },
     "execution_count": 54,
     "metadata": {},
     "output_type": "execute_result"
    }
   ],
   "source": [
    "# multi_class{‘auto’, ‘ovr’, ‘multinomial’}, default=’auto’\n",
    "multi_class='multinomial'\n",
    "clf = LogisticRegression(random_state=0,multi_class=multi_class,max_iter=1000)\n",
    "clf.fit(X_train,y_train)"
   ]
  },
  {
   "cell_type": "code",
   "execution_count": 49,
   "metadata": {},
   "outputs": [
    {
     "name": "stdout",
     "output_type": "stream",
     "text": [
      "acc:0.6510957324106112,precision:0.599869910409861,recall:0.4847234444959456,f1:0.5226272120327005.\n"
     ]
    }
   ],
   "source": [
    "predict=clf.predict(X_val)\n",
    "\n",
    "acc=accuracy_score(y_val,predict)\n",
    "precision=precision_score(y_val,predict,average='macro')\n",
    "recall=recall_score(y_val,predict,average='macro')\n",
    "f1=f1_score(y_val,predict,average='macro')\n",
    "\n",
    "print('acc:{0},precision:{1},recall:{2},f1:{3}.'.format(acc,precision,recall,f1))"
   ]
  },
  {
   "cell_type": "code",
   "execution_count": 53,
   "metadata": {},
   "outputs": [],
   "source": [
    "df_test['Sentiment']=clf.predict(test_X)\n",
    "df_test.to_csv('./submission.csv',index=False,columns=['PhraseId','Sentiment'])"
   ]
  }
 ],
 "metadata": {
  "interpreter": {
   "hash": "b3ba2566441a7c06988d0923437866b63cedc61552a5af99d1f4fb67d367b25f"
  },
  "kernelspec": {
   "display_name": "Python 3.9.7 64-bit ('base': conda)",
   "language": "python",
   "name": "python3"
  },
  "language_info": {
   "codemirror_mode": {
    "name": "ipython",
    "version": 3
   },
   "file_extension": ".py",
   "mimetype": "text/x-python",
   "name": "python",
   "nbconvert_exporter": "python",
   "pygments_lexer": "ipython3",
   "version": "3.9.7"
  },
  "orig_nbformat": 4
 },
 "nbformat": 4,
 "nbformat_minor": 2
}
