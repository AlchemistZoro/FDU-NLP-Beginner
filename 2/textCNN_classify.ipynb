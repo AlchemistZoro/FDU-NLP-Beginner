{
 "cells": [
  {
   "cell_type": "markdown",
   "metadata": {},
   "source": [
    "代码参考：\n",
    "https://discourse.qingxzd.com/t/pytorch/58\n",
    "\n",
    "辅助参考:\n",
    "https://www.pythonf.cn/read/128035"
   ]
  },
  {
   "cell_type": "code",
   "execution_count": 1,
   "metadata": {},
   "outputs": [],
   "source": [
    "import matplotlib.pyplot as plt\n",
    "import pandas as pd\n",
    "import numpy as np\n",
    "\n",
    "from torchtext.legacy import data,datasets\n",
    "\n",
    "import torch\n",
    "import torch.nn as nn\n",
    "import torch.optim as optim\n",
    "import torch.nn.functional as F\n",
    "from torchtext.vocab import Vectors\n",
    "from torch.nn import init\n",
    "\n",
    "from sklearn.model_selection import train_test_split\n",
    "import jieba    # 用来预处理文本（分词等）\n",
    "\n",
    "\n",
    "import nltk\n",
    "from nltk.corpus import stopwords\n",
    "from tqdm import tqdm\n"
   ]
  },
  {
   "cell_type": "code",
   "execution_count": 2,
   "metadata": {},
   "outputs": [],
   "source": [
    "seed=2019\n",
    "torch.manual_seed(seed)\n",
    "torch.backends.cudnn.deterministic=True\n",
    "\n",
    "DEVICE = torch.device(\"cuda\" if torch.cuda.is_available() else \"cpu\")   # 选择Gpu或Cpu"
   ]
  },
  {
   "cell_type": "code",
   "execution_count": 3,
   "metadata": {},
   "outputs": [],
   "source": [
    "df=pd.read_csv('data/train.tsv', sep='\\t')\n",
    "df_test=pd.read_csv('data/test.tsv', sep='\\t')"
   ]
  },
  {
   "cell_type": "code",
   "execution_count": 4,
   "metadata": {},
   "outputs": [],
   "source": [
    "train, val = train_test_split(df, test_size=0.2)\n",
    "train.to_csv(\"./data/train.csv\", index=False)\n",
    "val.to_csv(\"./data/val.csv\", index=False)"
   ]
  },
  {
   "cell_type": "code",
   "execution_count": 21,
   "metadata": {},
   "outputs": [],
   "source": [
    "def tokenizer(text):    \n",
    "    return [wd for wd in jieba.cut(text, cut_all=False)]\n",
    "\n",
    "en_stopwords=stopwords.words('english')\n",
    "\n",
    "FIX_LENGTH=50\n",
    "LABEL = data.Field(sequential=False, use_vocab=False)\n",
    "\n",
    "TEXT = data.Field(sequential=True, tokenize=tokenizer,fix_length=FIX_LENGTH, lower=True, stop_words=en_stopwords)"
   ]
  },
  {
   "cell_type": "code",
   "execution_count": 22,
   "metadata": {},
   "outputs": [
    {
     "name": "stdout",
     "output_type": "stream",
     "text": [
      "124848 [' ', ' ', ' ', 'new', ' ', 'yorker', ' ', '--', ' ', ' ', ',', ' ', 'really', ' ', ',', ' ', ' ', ' ', ' ', 'human', ' ', ' ', '--', ' ', ' ', ' ', 'weeks', ' ', ' ', '9', '\\\\', '/', '11'] 2\n"
     ]
    }
   ],
   "source": [
    "train, val = data.TabularDataset.splits(\n",
    "    path='./data', train='train.csv', validation='val.csv', format='csv', skip_header=True,\n",
    "    fields=[('PhraseId', None), ('SentenceId', None), ('Phrase', TEXT), ('Sentiment', LABEL)]\n",
    ")\n",
    "\n",
    "test = data.TabularDataset('./data/test.tsv', format='tsv', skip_header=True, \n",
    "                           fields=[('PhraseId', None), ('SentenceId', None), ('Phrase', TEXT)])\n",
    "print(len(train),train[2].Phrase, train[2].Sentiment)"
   ]
  },
  {
   "cell_type": "code",
   "execution_count": 23,
   "metadata": {},
   "outputs": [],
   "source": [
    "# # 建立vocab（不需要加载预训练的词向量） \n",
    "# TEXT.build_vocab(train, val)\n",
    "# LABEL.build_vocab(train, val)\n",
    "\n",
    "# 建立vocab（加载预训练的词向量，如果路径没有该词向量，会自动下载）\n",
    "# TEXT.build_vocab(train, vectors='glove.6B.100d')#, max_size=30000)\n",
    "TEXT.build_vocab(train)#, max_size=30000)\n",
    "\n",
    "# 当 corpus 中有的 token 在 vectors 中不存在时 的初始化方式.\n",
    "# TEXT.vocab.vectors.unk_init = init.xavier_uniform"
   ]
  },
  {
   "cell_type": "code",
   "execution_count": 24,
   "metadata": {},
   "outputs": [],
   "source": [
    "# 构造迭代器\n",
    "'''\n",
    "sort_key指在一个batch内根据文本长度进行排序。\n",
    "'''\n",
    "train_iter = data.BucketIterator(train, batch_size=128, sort_key=lambda x: len(x.Phrase), \n",
    "                                 shuffle=True,device=DEVICE)\n",
    "\n",
    "val_iter = data.BucketIterator(val, batch_size=128, sort_key=lambda x: len(x.Phrase), \n",
    "                                 shuffle=True,device=DEVICE)\n",
    "\n",
    "# 在 test_iter , sort一定要设置成 False, 要不然会被 torchtext 搞乱样本顺序\n",
    "test_iter = data.Iterator(dataset=test, batch_size=128, train=False,\n",
    "                          sort=False, device=DEVICE)\n",
    "\n",
    "# 查看trainiter一个batch\n",
    "\n",
    "# batch = next(iter(train_iter))\n",
    "# a= batch.Phrase\n",
    "# label = batch.Sentiment\n",
    "# print(a.shape)\n",
    "# print(batch.Phrase)"
   ]
  },
  {
   "cell_type": "code",
   "execution_count": 25,
   "metadata": {},
   "outputs": [
    {
     "name": "stdout",
     "output_type": "stream",
     "text": [
      "Size of TEXT vocabulary: 15156\n"
     ]
    }
   ],
   "source": [
    "#文本中的唯一标记\n",
    "print(\"Size of TEXT vocabulary:\",len(TEXT.vocab))\n",
    "\n",
    "#标签中唯一令牌的集合\n",
    "# print(\"Size of LABEL vocabulary:\",len(LABEL.vocab))\n",
    "\n",
    "#常用单词\n",
    "# print(TEXT.vocab.freqs.most_common(10))\n",
    "\n",
    "# 词库向量的大小\n",
    "# print(TEXT.vocab.vectors.shape)\n",
    "#单词词典\n",
    "# print(LABEL.vocab.stoi)"
   ]
  },
  {
   "cell_type": "code",
   "execution_count": 40,
   "metadata": {},
   "outputs": [
    {
     "name": "stdout",
     "output_type": "stream",
     "text": [
      "TextCNN(\n",
      "  (W): Embedding(15156, 60)\n",
      "  (conv): Sequential(\n",
      "    (0): Conv2d(1, 3, kernel_size=(2, 60), stride=(1, 1))\n",
      "    (1): ReLU()\n",
      "    (2): MaxPool2d(kernel_size=(49, 1), stride=(49, 1), padding=0, dilation=1, ceil_mode=False)\n",
      "  )\n",
      "  (fc): Linear(in_features=3, out_features=5, bias=True)\n",
      ")\n",
      "The model has 909,743 trainable parameters\n"
     ]
    }
   ],
   "source": [
    "embedding_size = 60\n",
    "sequence_length = FIX_LENGTH # every sentences contains sequence_length(=3) words\n",
    "num_classes = 5  # 0 or 1\n",
    "batch_size = 128\n",
    "\n",
    "vocab_size = len(TEXT.vocab)\n",
    "\n",
    "class TextCNN(nn.Module):\n",
    "    def __init__(self):\n",
    "        super(TextCNN, self).__init__()\n",
    "        self.W = nn.Embedding(vocab_size, embedding_size)\n",
    "        output_channel = 3\n",
    "        self.conv = nn.Sequential(\n",
    "            # conv : [input_channel(=1), output_channel, (filter_height, filter_width), stride=1]\n",
    "            nn.Conv2d(1, output_channel, (2, embedding_size)),\n",
    "            nn.ReLU(),\n",
    "            # pool : ((filter_height, filter_width))\n",
    "            nn.MaxPool2d((FIX_LENGTH-1, 1)),\n",
    "        )\n",
    "        # fc\n",
    "        self.fc = nn.Linear(output_channel, num_classes)\n",
    "\n",
    "    def forward(self, X):\n",
    "      '''\n",
    "      X: [batch_size, sequence_length]\n",
    "      '''\n",
    "      batch_size = X.shape[0]\n",
    "    #   print(batch_size)\n",
    "      embedding_X = self.W(X) # [batch_size, sequence_length, embedding_size]\n",
    "    #   print(embedding_X.shape)\n",
    "      embedding_X = embedding_X.unsqueeze(1) # add channel(=1) [batch, channel(=1), sequence_length, embedding_size]\n",
    "    #   print(embedding_X.shape)\n",
    "      conved = self.conv(embedding_X) # [batch_size, output_channel, 1, 1]\n",
    "    #   print(conved.shape)\n",
    "      flatten = conved.view(batch_size, -1) # [batch_size, output_channel*1*1]\n",
    "    #   print(flatten.shape)\n",
    "      output = self.fc(flatten)\n",
    "      return output\n",
    "\n",
    "\n",
    "\n",
    "model = TextCNN()\n",
    "\n",
    "#定义优化器和损失\n",
    "optimizer = optim.Adam(model.parameters())\n",
    "criterion = nn.CrossEntropyLoss()\n",
    "#定义度量指标\n",
    "def binary_accuracy(preds, y):\n",
    "\n",
    "    #round预测到最接近的整数\n",
    "    # rounded_preds = torch.round(preds)\n",
    "    correct = (preds == y).float() \n",
    "    acc = correct.sum() / len(correct)\n",
    "    return acc\n",
    "#转化为cuda（如果可用）\n",
    "model = model.to(DEVICE)\n",
    "criterion = criterion.to(DEVICE)\n",
    "print(model)\n",
    "#可训练参数的数量\n",
    "def count_parameters(model):\n",
    "    return sum(p.numel() for p in model.parameters() if p.requires_grad)\n",
    "print(f'The model has {count_parameters(model):,} trainable parameters')"
   ]
  },
  {
   "cell_type": "code",
   "execution_count": 36,
   "metadata": {},
   "outputs": [
    {
     "name": "stdout",
     "output_type": "stream",
     "text": [
      "torch.Size([50, 128])\n",
      "torch.Size([128, 3, 49, 1])\n",
      "torch.Size([128, 3, 49, 1])\n",
      "torch.Size([128, 3, 1, 1])\n"
     ]
    }
   ],
   "source": [
    "# batch=next(iter(train_iter))\n",
    "# print(batch.Phrase.shape)\n",
    "# text = batch.Phrase\n",
    "# text = text.permute(1,0)\n",
    "# A=torch.ones([128,1,50,60])\n",
    "\n",
    "# cov=nn.Conv2d(1, 3, (2, embedding_size))\n",
    "# act=nn.ReLU()\n",
    "#             # pool : ((filter_height, filter_width))\n",
    "# pool=nn.MaxPool2d((49, 1))\n",
    "\n",
    "\n",
    "# out=cov(A)\n",
    "# print(out.shape)\n",
    "# out=act(out)\n",
    "# print(out.shape)\n",
    "# out=pool(out)\n",
    "# print(out.shape)"
   ]
  },
  {
   "cell_type": "code",
   "execution_count": 41,
   "metadata": {},
   "outputs": [
    {
     "name": "stdout",
     "output_type": "stream",
     "text": [
      "torch.Size([50, 128])\n",
      "torch.Size([128, 5])\n",
      "torch.Size([128])\n",
      "tensor(1.5005, device='cuda:0', grad_fn=<NllLossBackward>)\n",
      "tensor([2, 2, 2, 2, 2, 2, 2, 2, 2, 2, 2, 2, 2, 2, 2, 2, 2, 2, 2, 2, 2, 2, 2, 2,\n",
      "        2, 2, 2, 2, 2, 2, 2, 2, 2, 2, 2, 2, 2, 2, 2, 2, 2, 2, 2, 2, 2, 2, 2, 2,\n",
      "        2, 2, 2, 2, 2, 2, 2, 2, 2, 2, 2, 2, 2, 2, 2, 2, 2, 2, 2, 2, 2, 2, 2, 2,\n",
      "        2, 2, 2, 2, 2, 2, 2, 2, 2, 2, 2, 2, 2, 2, 2, 2, 2, 2, 2, 2, 2, 2, 2, 2,\n",
      "        2, 2, 2, 2, 2, 2, 2, 2, 2, 2, 2, 2, 2, 2, 2, 2, 2, 2, 2, 2, 2, 2, 2, 2,\n",
      "        2, 2, 2, 2, 2, 2, 2, 2], device='cuda:0')\n",
      "tensor(0.5000, device='cuda:0')\n"
     ]
    }
   ],
   "source": [
    "batch=next(iter(train_iter))\n",
    "print(batch.Phrase.shape)\n",
    "text = batch.Phrase\n",
    "text = text.permute(1,0)\n",
    "predictions = model(text).squeeze()\n",
    "print(predictions.shape)\n",
    "print(batch.Sentiment.shape)\n",
    "\n",
    "loss = criterion(predictions, batch.Sentiment)\n",
    "        #计算二分类准确度\n",
    "print(loss)\n",
    "predictions_val=  predictions.argmax(dim=1)\n",
    "\n",
    "print(predictions_val)\n",
    "acc = binary_accuracy(predictions_val, batch.Sentiment.float())\n",
    "print(acc)\n",
    "        #后向传播损失并计算梯度\n",
    "loss.backward()"
   ]
  },
  {
   "cell_type": "code",
   "execution_count": 42,
   "metadata": {},
   "outputs": [],
   "source": [
    "def Train(model, iterator, optimizer, criterion):\n",
    "    #每个epoch进行初始化\n",
    "    epoch_loss = 0\n",
    "    epoch_acc = 0\n",
    "    #将模型设置为训练阶段\n",
    "    model.train()\n",
    "    predictions_val=[]\n",
    "    for batch in tqdm(iterator):\n",
    "        #重设梯度\n",
    "        optimizer.zero_grad()\n",
    "        #获取文本和单词数量\n",
    "        text = batch.Phrase\n",
    "        text = text.permute(1,0)\n",
    "        # print(text.shape)\n",
    "        #转换为一维张量\n",
    "        predictions = model(text).squeeze()\n",
    "        #计算loss\n",
    "        loss = criterion(predictions, batch.Sentiment)\n",
    "        #计算二分类准确度\n",
    "        predictions_val=  predictions.argmax(dim=1)\n",
    "\n",
    "\n",
    "        acc = binary_accuracy(predictions_val, batch.Sentiment.float())\n",
    "        #后向传播损失并计算梯度\n",
    "        loss.backward()\n",
    "        #更新权重\n",
    "        optimizer.step()\n",
    "        #损失和准确度\n",
    "        \n",
    "        epoch_loss += loss.item()  \n",
    "        epoch_acc += acc.item()\n",
    "    \n",
    "    return epoch_loss / len(iterator), epoch_acc / len(iterator)\n",
    "\n",
    "def Evaluate(model, iterator, criterion):\n",
    "    #每个epoch进行初始化\n",
    "    epoch_loss = 0\n",
    "    epoch_acc = 0\n",
    "    #停用dropout层\n",
    "    model.eval()\n",
    "    #停用自动求导\n",
    "    with torch.no_grad():\n",
    "        for batch in tqdm(iterator):\n",
    "            #获取文本和单词数量\n",
    "            text = batch.Phrase\n",
    "            text = text.permute(1,0)\n",
    "            #转换为一维张量\n",
    "            predictions = model(text).squeeze()\n",
    "            #计算损失和准确度\n",
    "            loss = criterion(predictions, batch.Sentiment)\n",
    "            predictions_val=   predictions.argmax(dim=1)\n",
    "\n",
    "            acc = binary_accuracy(predictions_val, batch.Sentiment.float())\n",
    "            #跟踪损失和准确度\n",
    "            epoch_loss += loss.item()\n",
    "            epoch_acc += acc.item()\n",
    "    return epoch_loss / len(iterator), epoch_acc / len(iterator)\n",
    "\n",
    "def Test(model, iterator, criterion):\n",
    "    #每个epoch进行初始化\n",
    "    epoch_loss = 0\n",
    "    epoch_acc = 0\n",
    "    #停用dropout层\n",
    "    model.eval()\n",
    "    predict_list=[]\n",
    "    #停用自动求导\n",
    "    with torch.no_grad():\n",
    "        for batch in tqdm(iterator):\n",
    "            #获取文本和单词数量\n",
    "            text = batch.Phrase\n",
    "            text = text.permute(1,0)\n",
    "            #转换为一维张量\n",
    "            predictions = model(text).squeeze()\n",
    "            #计算损失和准确度\n",
    "\n",
    "            predict=   predictions.argmax(dim=1).cpu()\n",
    "            predict_list+=predict.numpy().flatten().tolist()\n",
    "\n",
    "    return predict_list"
   ]
  },
  {
   "cell_type": "code",
   "execution_count": 43,
   "metadata": {},
   "outputs": [
    {
     "name": "stdout",
     "output_type": "stream",
     "text": [
      "epoch: 0\n"
     ]
    },
    {
     "name": "stderr",
     "output_type": "stream",
     "text": [
      "100%|██████████| 976/976 [00:04<00:00, 226.82it/s]\n",
      "100%|██████████| 244/244 [00:00<00:00, 529.16it/s]\n"
     ]
    },
    {
     "name": "stdout",
     "output_type": "stream",
     "text": [
      "\tTrain Loss: 1.258 | Train Acc: 51.37%\n",
      "\t Val. Loss: 1.210 |  Val. Acc: 52.70%\n",
      "epoch: 1\n"
     ]
    },
    {
     "name": "stderr",
     "output_type": "stream",
     "text": [
      "100%|██████████| 976/976 [00:04<00:00, 230.46it/s]\n",
      "100%|██████████| 244/244 [00:00<00:00, 527.16it/s]\n"
     ]
    },
    {
     "name": "stdout",
     "output_type": "stream",
     "text": [
      "\tTrain Loss: 1.179 | Train Acc: 53.73%\n",
      "\t Val. Loss: 1.158 |  Val. Acc: 54.34%\n",
      "epoch: 2\n"
     ]
    },
    {
     "name": "stderr",
     "output_type": "stream",
     "text": [
      "100%|██████████| 976/976 [00:04<00:00, 227.64it/s]\n",
      "100%|██████████| 244/244 [00:00<00:00, 502.18it/s]\n"
     ]
    },
    {
     "name": "stdout",
     "output_type": "stream",
     "text": [
      "\tTrain Loss: 1.127 | Train Acc: 55.45%\n",
      "\t Val. Loss: 1.129 |  Val. Acc: 55.56%\n",
      "epoch: 3\n"
     ]
    },
    {
     "name": "stderr",
     "output_type": "stream",
     "text": [
      "100%|██████████| 976/976 [00:04<00:00, 219.68it/s]\n",
      "100%|██████████| 244/244 [00:00<00:00, 532.46it/s]\n"
     ]
    },
    {
     "name": "stdout",
     "output_type": "stream",
     "text": [
      "\tTrain Loss: 1.100 | Train Acc: 56.33%\n",
      "\t Val. Loss: 1.115 |  Val. Acc: 56.00%\n",
      "epoch: 4\n"
     ]
    },
    {
     "name": "stderr",
     "output_type": "stream",
     "text": [
      "100%|██████████| 976/976 [00:04<00:00, 219.48it/s]\n",
      "100%|██████████| 244/244 [00:00<00:00, 491.25it/s]\n"
     ]
    },
    {
     "name": "stdout",
     "output_type": "stream",
     "text": [
      "\tTrain Loss: 1.083 | Train Acc: 56.74%\n",
      "\t Val. Loss: 1.110 |  Val. Acc: 56.29%\n",
      "epoch: 5\n"
     ]
    },
    {
     "name": "stderr",
     "output_type": "stream",
     "text": [
      "100%|██████████| 976/976 [00:04<00:00, 219.45it/s]\n",
      "100%|██████████| 244/244 [00:00<00:00, 463.67it/s]\n"
     ]
    },
    {
     "name": "stdout",
     "output_type": "stream",
     "text": [
      "\tTrain Loss: 1.072 | Train Acc: 57.22%\n",
      "\t Val. Loss: 1.105 |  Val. Acc: 56.39%\n",
      "epoch: 6\n"
     ]
    },
    {
     "name": "stderr",
     "output_type": "stream",
     "text": [
      "100%|██████████| 976/976 [00:04<00:00, 221.05it/s]\n",
      "100%|██████████| 244/244 [00:00<00:00, 487.83it/s]\n"
     ]
    },
    {
     "name": "stdout",
     "output_type": "stream",
     "text": [
      "\tTrain Loss: 1.064 | Train Acc: 57.44%\n",
      "\t Val. Loss: 1.099 |  Val. Acc: 56.53%\n",
      "epoch: 7\n"
     ]
    },
    {
     "name": "stderr",
     "output_type": "stream",
     "text": [
      "100%|██████████| 976/976 [00:04<00:00, 210.65it/s]\n",
      "100%|██████████| 244/244 [00:00<00:00, 512.11it/s]\n"
     ]
    },
    {
     "name": "stdout",
     "output_type": "stream",
     "text": [
      "\tTrain Loss: 1.055 | Train Acc: 57.72%\n",
      "\t Val. Loss: 1.098 |  Val. Acc: 56.22%\n",
      "epoch: 8\n"
     ]
    },
    {
     "name": "stderr",
     "output_type": "stream",
     "text": [
      "100%|██████████| 976/976 [00:04<00:00, 213.03it/s]\n",
      "100%|██████████| 244/244 [00:00<00:00, 522.83it/s]\n"
     ]
    },
    {
     "name": "stdout",
     "output_type": "stream",
     "text": [
      "\tTrain Loss: 1.046 | Train Acc: 58.02%\n",
      "\t Val. Loss: 1.090 |  Val. Acc: 56.76%\n",
      "epoch: 9\n"
     ]
    },
    {
     "name": "stderr",
     "output_type": "stream",
     "text": [
      "100%|██████████| 976/976 [00:04<00:00, 221.70it/s]\n",
      "100%|██████████| 244/244 [00:00<00:00, 515.11it/s]\n"
     ]
    },
    {
     "name": "stdout",
     "output_type": "stream",
     "text": [
      "\tTrain Loss: 1.036 | Train Acc: 58.39%\n",
      "\t Val. Loss: 1.082 |  Val. Acc: 57.21%\n",
      "epoch: 10\n"
     ]
    },
    {
     "name": "stderr",
     "output_type": "stream",
     "text": [
      "100%|██████████| 976/976 [00:04<00:00, 225.74it/s]\n",
      "100%|██████████| 244/244 [00:00<00:00, 479.54it/s]\n"
     ]
    },
    {
     "name": "stdout",
     "output_type": "stream",
     "text": [
      "\tTrain Loss: 1.026 | Train Acc: 58.86%\n",
      "\t Val. Loss: 1.079 |  Val. Acc: 57.68%\n",
      "epoch: 11\n"
     ]
    },
    {
     "name": "stderr",
     "output_type": "stream",
     "text": [
      "100%|██████████| 976/976 [00:04<00:00, 232.77it/s]\n",
      "100%|██████████| 244/244 [00:00<00:00, 529.19it/s]\n"
     ]
    },
    {
     "name": "stdout",
     "output_type": "stream",
     "text": [
      "\tTrain Loss: 1.019 | Train Acc: 59.30%\n",
      "\t Val. Loss: 1.075 |  Val. Acc: 57.24%\n",
      "epoch: 12\n"
     ]
    },
    {
     "name": "stderr",
     "output_type": "stream",
     "text": [
      "100%|██████████| 976/976 [00:04<00:00, 231.27it/s]\n",
      "100%|██████████| 244/244 [00:00<00:00, 542.49it/s]\n"
     ]
    },
    {
     "name": "stdout",
     "output_type": "stream",
     "text": [
      "\tTrain Loss: 1.013 | Train Acc: 59.50%\n",
      "\t Val. Loss: 1.073 |  Val. Acc: 57.41%\n",
      "epoch: 13\n"
     ]
    },
    {
     "name": "stderr",
     "output_type": "stream",
     "text": [
      "100%|██████████| 976/976 [00:04<00:00, 230.25it/s]\n",
      "100%|██████████| 244/244 [00:00<00:00, 525.05it/s]\n"
     ]
    },
    {
     "name": "stdout",
     "output_type": "stream",
     "text": [
      "\tTrain Loss: 1.008 | Train Acc: 59.75%\n",
      "\t Val. Loss: 1.064 |  Val. Acc: 57.80%\n",
      "epoch: 14\n"
     ]
    },
    {
     "name": "stderr",
     "output_type": "stream",
     "text": [
      "100%|██████████| 976/976 [00:04<00:00, 231.50it/s]\n",
      "100%|██████████| 244/244 [00:00<00:00, 519.35it/s]\n"
     ]
    },
    {
     "name": "stdout",
     "output_type": "stream",
     "text": [
      "\tTrain Loss: 1.003 | Train Acc: 59.94%\n",
      "\t Val. Loss: 1.060 |  Val. Acc: 58.07%\n",
      "epoch: 15\n"
     ]
    },
    {
     "name": "stderr",
     "output_type": "stream",
     "text": [
      "100%|██████████| 976/976 [00:04<00:00, 229.46it/s]\n",
      "100%|██████████| 244/244 [00:00<00:00, 531.54it/s]\n"
     ]
    },
    {
     "name": "stdout",
     "output_type": "stream",
     "text": [
      "\tTrain Loss: 0.997 | Train Acc: 60.13%\n",
      "\t Val. Loss: 1.054 |  Val. Acc: 58.32%\n",
      "epoch: 16\n"
     ]
    },
    {
     "name": "stderr",
     "output_type": "stream",
     "text": [
      "100%|██████████| 976/976 [00:04<00:00, 231.16it/s]\n",
      "100%|██████████| 244/244 [00:00<00:00, 516.63it/s]\n"
     ]
    },
    {
     "name": "stdout",
     "output_type": "stream",
     "text": [
      "\tTrain Loss: 0.985 | Train Acc: 60.51%\n",
      "\t Val. Loss: 1.046 |  Val. Acc: 58.41%\n",
      "epoch: 17\n"
     ]
    },
    {
     "name": "stderr",
     "output_type": "stream",
     "text": [
      "100%|██████████| 976/976 [00:04<00:00, 220.44it/s]\n",
      "100%|██████████| 244/244 [00:00<00:00, 525.59it/s]\n"
     ]
    },
    {
     "name": "stdout",
     "output_type": "stream",
     "text": [
      "\tTrain Loss: 0.974 | Train Acc: 60.97%\n",
      "\t Val. Loss: 1.036 |  Val. Acc: 59.01%\n",
      "epoch: 18\n"
     ]
    },
    {
     "name": "stderr",
     "output_type": "stream",
     "text": [
      "100%|██████████| 976/976 [00:04<00:00, 223.18it/s]\n",
      "100%|██████████| 244/244 [00:00<00:00, 521.91it/s]\n"
     ]
    },
    {
     "name": "stdout",
     "output_type": "stream",
     "text": [
      "\tTrain Loss: 0.966 | Train Acc: 61.19%\n",
      "\t Val. Loss: 1.033 |  Val. Acc: 59.23%\n",
      "epoch: 19\n"
     ]
    },
    {
     "name": "stderr",
     "output_type": "stream",
     "text": [
      "100%|██████████| 976/976 [00:04<00:00, 229.31it/s]\n",
      "100%|██████████| 244/244 [00:00<00:00, 512.67it/s]\n"
     ]
    },
    {
     "name": "stdout",
     "output_type": "stream",
     "text": [
      "\tTrain Loss: 0.960 | Train Acc: 61.39%\n",
      "\t Val. Loss: 1.031 |  Val. Acc: 59.27%\n",
      "epoch: 20\n"
     ]
    },
    {
     "name": "stderr",
     "output_type": "stream",
     "text": [
      "100%|██████████| 976/976 [00:04<00:00, 225.72it/s]\n",
      "100%|██████████| 244/244 [00:00<00:00, 522.57it/s]\n"
     ]
    },
    {
     "name": "stdout",
     "output_type": "stream",
     "text": [
      "\tTrain Loss: 0.956 | Train Acc: 61.65%\n",
      "\t Val. Loss: 1.029 |  Val. Acc: 59.42%\n",
      "epoch: 21\n"
     ]
    },
    {
     "name": "stderr",
     "output_type": "stream",
     "text": [
      "100%|██████████| 976/976 [00:04<00:00, 230.41it/s]\n",
      "100%|██████████| 244/244 [00:00<00:00, 515.21it/s]\n"
     ]
    },
    {
     "name": "stdout",
     "output_type": "stream",
     "text": [
      "\tTrain Loss: 0.951 | Train Acc: 61.74%\n",
      "\t Val. Loss: 1.026 |  Val. Acc: 59.62%\n",
      "epoch: 22\n"
     ]
    },
    {
     "name": "stderr",
     "output_type": "stream",
     "text": [
      "100%|██████████| 976/976 [00:04<00:00, 227.90it/s]\n",
      "100%|██████████| 244/244 [00:00<00:00, 509.53it/s]\n"
     ]
    },
    {
     "name": "stdout",
     "output_type": "stream",
     "text": [
      "\tTrain Loss: 0.948 | Train Acc: 61.96%\n",
      "\t Val. Loss: 1.026 |  Val. Acc: 59.39%\n",
      "epoch: 23\n"
     ]
    },
    {
     "name": "stderr",
     "output_type": "stream",
     "text": [
      "100%|██████████| 976/976 [00:04<00:00, 229.10it/s]\n",
      "100%|██████████| 244/244 [00:00<00:00, 530.44it/s]\n"
     ]
    },
    {
     "name": "stdout",
     "output_type": "stream",
     "text": [
      "\tTrain Loss: 0.945 | Train Acc: 62.06%\n",
      "\t Val. Loss: 1.025 |  Val. Acc: 59.56%\n",
      "epoch: 24\n"
     ]
    },
    {
     "name": "stderr",
     "output_type": "stream",
     "text": [
      "100%|██████████| 976/976 [00:04<00:00, 229.89it/s]\n",
      "100%|██████████| 244/244 [00:00<00:00, 478.07it/s]\n"
     ]
    },
    {
     "name": "stdout",
     "output_type": "stream",
     "text": [
      "\tTrain Loss: 0.942 | Train Acc: 62.06%\n",
      "\t Val. Loss: 1.022 |  Val. Acc: 59.75%\n",
      "epoch: 25\n"
     ]
    },
    {
     "name": "stderr",
     "output_type": "stream",
     "text": [
      "100%|██████████| 976/976 [00:04<00:00, 234.33it/s]\n",
      "100%|██████████| 244/244 [00:00<00:00, 518.73it/s]\n"
     ]
    },
    {
     "name": "stdout",
     "output_type": "stream",
     "text": [
      "\tTrain Loss: 0.940 | Train Acc: 62.25%\n",
      "\t Val. Loss: 1.022 |  Val. Acc: 59.84%\n",
      "epoch: 26\n"
     ]
    },
    {
     "name": "stderr",
     "output_type": "stream",
     "text": [
      "100%|██████████| 976/976 [00:04<00:00, 230.22it/s]\n",
      "100%|██████████| 244/244 [00:00<00:00, 525.21it/s]\n"
     ]
    },
    {
     "name": "stdout",
     "output_type": "stream",
     "text": [
      "\tTrain Loss: 0.939 | Train Acc: 62.30%\n",
      "\t Val. Loss: 1.024 |  Val. Acc: 59.88%\n",
      "epoch: 27\n"
     ]
    },
    {
     "name": "stderr",
     "output_type": "stream",
     "text": [
      "100%|██████████| 976/976 [00:04<00:00, 233.65it/s]\n",
      "100%|██████████| 244/244 [00:00<00:00, 518.56it/s]\n"
     ]
    },
    {
     "name": "stdout",
     "output_type": "stream",
     "text": [
      "\tTrain Loss: 0.937 | Train Acc: 62.41%\n",
      "\t Val. Loss: 1.023 |  Val. Acc: 59.72%\n",
      "epoch: 28\n"
     ]
    },
    {
     "name": "stderr",
     "output_type": "stream",
     "text": [
      "100%|██████████| 976/976 [00:04<00:00, 216.31it/s]\n",
      "100%|██████████| 244/244 [00:00<00:00, 394.67it/s]\n"
     ]
    },
    {
     "name": "stdout",
     "output_type": "stream",
     "text": [
      "\tTrain Loss: 0.936 | Train Acc: 62.38%\n",
      "\t Val. Loss: 1.023 |  Val. Acc: 59.77%\n",
      "epoch: 29\n"
     ]
    },
    {
     "name": "stderr",
     "output_type": "stream",
     "text": [
      "100%|██████████| 976/976 [00:04<00:00, 232.84it/s]\n",
      "100%|██████████| 244/244 [00:00<00:00, 525.43it/s]\n"
     ]
    },
    {
     "name": "stdout",
     "output_type": "stream",
     "text": [
      "\tTrain Loss: 0.934 | Train Acc: 62.44%\n",
      "\t Val. Loss: 1.028 |  Val. Acc: 59.37%\n",
      "epoch: 30\n"
     ]
    },
    {
     "name": "stderr",
     "output_type": "stream",
     "text": [
      "100%|██████████| 976/976 [00:04<00:00, 232.23it/s]\n",
      "100%|██████████| 244/244 [00:00<00:00, 513.38it/s]\n"
     ]
    },
    {
     "name": "stdout",
     "output_type": "stream",
     "text": [
      "\tTrain Loss: 0.933 | Train Acc: 62.47%\n",
      "\t Val. Loss: 1.025 |  Val. Acc: 59.73%\n",
      "epoch: 31\n"
     ]
    },
    {
     "name": "stderr",
     "output_type": "stream",
     "text": [
      "100%|██████████| 976/976 [00:04<00:00, 232.12it/s]\n",
      "100%|██████████| 244/244 [00:00<00:00, 530.75it/s]\n"
     ]
    },
    {
     "name": "stdout",
     "output_type": "stream",
     "text": [
      "\tTrain Loss: 0.932 | Train Acc: 62.51%\n",
      "\t Val. Loss: 1.021 |  Val. Acc: 59.84%\n",
      "epoch: 32\n"
     ]
    },
    {
     "name": "stderr",
     "output_type": "stream",
     "text": [
      "100%|██████████| 976/976 [00:04<00:00, 230.75it/s]\n",
      "100%|██████████| 244/244 [00:00<00:00, 519.87it/s]\n"
     ]
    },
    {
     "name": "stdout",
     "output_type": "stream",
     "text": [
      "\tTrain Loss: 0.930 | Train Acc: 62.56%\n",
      "\t Val. Loss: 1.025 |  Val. Acc: 59.68%\n",
      "epoch: 33\n"
     ]
    },
    {
     "name": "stderr",
     "output_type": "stream",
     "text": [
      "100%|██████████| 976/976 [00:04<00:00, 217.83it/s]\n",
      "100%|██████████| 244/244 [00:00<00:00, 490.68it/s]\n"
     ]
    },
    {
     "name": "stdout",
     "output_type": "stream",
     "text": [
      "\tTrain Loss: 0.929 | Train Acc: 62.58%\n",
      "\t Val. Loss: 1.023 |  Val. Acc: 59.61%\n",
      "epoch: 34\n"
     ]
    },
    {
     "name": "stderr",
     "output_type": "stream",
     "text": [
      "100%|██████████| 976/976 [00:04<00:00, 217.58it/s]\n",
      "100%|██████████| 244/244 [00:00<00:00, 507.51it/s]\n"
     ]
    },
    {
     "name": "stdout",
     "output_type": "stream",
     "text": [
      "\tTrain Loss: 0.928 | Train Acc: 62.66%\n",
      "\t Val. Loss: 1.019 |  Val. Acc: 60.13%\n",
      "epoch: 35\n"
     ]
    },
    {
     "name": "stderr",
     "output_type": "stream",
     "text": [
      "100%|██████████| 976/976 [00:04<00:00, 226.07it/s]\n",
      "100%|██████████| 244/244 [00:00<00:00, 435.05it/s]\n"
     ]
    },
    {
     "name": "stdout",
     "output_type": "stream",
     "text": [
      "\tTrain Loss: 0.927 | Train Acc: 62.67%\n",
      "\t Val. Loss: 1.020 |  Val. Acc: 59.87%\n",
      "epoch: 36\n"
     ]
    },
    {
     "name": "stderr",
     "output_type": "stream",
     "text": [
      "100%|██████████| 976/976 [00:04<00:00, 236.38it/s]\n",
      "100%|██████████| 244/244 [00:00<00:00, 528.96it/s]\n"
     ]
    },
    {
     "name": "stdout",
     "output_type": "stream",
     "text": [
      "\tTrain Loss: 0.926 | Train Acc: 62.76%\n",
      "\t Val. Loss: 1.027 |  Val. Acc: 59.74%\n",
      "epoch: 37\n"
     ]
    },
    {
     "name": "stderr",
     "output_type": "stream",
     "text": [
      "100%|██████████| 976/976 [00:04<00:00, 237.82it/s]\n",
      "100%|██████████| 244/244 [00:00<00:00, 524.45it/s]\n"
     ]
    },
    {
     "name": "stdout",
     "output_type": "stream",
     "text": [
      "\tTrain Loss: 0.925 | Train Acc: 62.74%\n",
      "\t Val. Loss: 1.022 |  Val. Acc: 60.06%\n",
      "epoch: 38\n"
     ]
    },
    {
     "name": "stderr",
     "output_type": "stream",
     "text": [
      "100%|██████████| 976/976 [00:04<00:00, 238.04it/s]\n",
      "100%|██████████| 244/244 [00:00<00:00, 548.73it/s]\n"
     ]
    },
    {
     "name": "stdout",
     "output_type": "stream",
     "text": [
      "\tTrain Loss: 0.924 | Train Acc: 62.84%\n",
      "\t Val. Loss: 1.021 |  Val. Acc: 59.91%\n",
      "epoch: 39\n"
     ]
    },
    {
     "name": "stderr",
     "output_type": "stream",
     "text": [
      "100%|██████████| 976/976 [00:04<00:00, 240.57it/s]\n",
      "100%|██████████| 244/244 [00:00<00:00, 555.92it/s]\n"
     ]
    },
    {
     "name": "stdout",
     "output_type": "stream",
     "text": [
      "\tTrain Loss: 0.923 | Train Acc: 62.79%\n",
      "\t Val. Loss: 1.023 |  Val. Acc: 59.87%\n",
      "epoch: 40\n"
     ]
    },
    {
     "name": "stderr",
     "output_type": "stream",
     "text": [
      "100%|██████████| 976/976 [00:03<00:00, 244.16it/s]\n",
      "100%|██████████| 244/244 [00:00<00:00, 561.12it/s]\n"
     ]
    },
    {
     "name": "stdout",
     "output_type": "stream",
     "text": [
      "\tTrain Loss: 0.922 | Train Acc: 62.90%\n",
      "\t Val. Loss: 1.026 |  Val. Acc: 59.70%\n",
      "epoch: 41\n"
     ]
    },
    {
     "name": "stderr",
     "output_type": "stream",
     "text": [
      "100%|██████████| 976/976 [00:04<00:00, 236.47it/s]\n",
      "100%|██████████| 244/244 [00:00<00:00, 428.21it/s]\n"
     ]
    },
    {
     "name": "stdout",
     "output_type": "stream",
     "text": [
      "\tTrain Loss: 0.922 | Train Acc: 62.85%\n",
      "\t Val. Loss: 1.022 |  Val. Acc: 59.82%\n",
      "epoch: 42\n"
     ]
    },
    {
     "name": "stderr",
     "output_type": "stream",
     "text": [
      "100%|██████████| 976/976 [00:04<00:00, 222.51it/s]\n",
      "100%|██████████| 244/244 [00:00<00:00, 528.66it/s]\n"
     ]
    },
    {
     "name": "stdout",
     "output_type": "stream",
     "text": [
      "\tTrain Loss: 0.921 | Train Acc: 62.95%\n",
      "\t Val. Loss: 1.021 |  Val. Acc: 60.08%\n",
      "epoch: 43\n"
     ]
    },
    {
     "name": "stderr",
     "output_type": "stream",
     "text": [
      "100%|██████████| 976/976 [00:04<00:00, 230.13it/s]\n",
      "100%|██████████| 244/244 [00:00<00:00, 516.73it/s]\n"
     ]
    },
    {
     "name": "stdout",
     "output_type": "stream",
     "text": [
      "\tTrain Loss: 0.921 | Train Acc: 62.91%\n",
      "\t Val. Loss: 1.022 |  Val. Acc: 59.92%\n",
      "epoch: 44\n"
     ]
    },
    {
     "name": "stderr",
     "output_type": "stream",
     "text": [
      "100%|██████████| 976/976 [00:04<00:00, 230.83it/s]\n",
      "100%|██████████| 244/244 [00:00<00:00, 528.99it/s]\n"
     ]
    },
    {
     "name": "stdout",
     "output_type": "stream",
     "text": [
      "\tTrain Loss: 0.920 | Train Acc: 62.88%\n",
      "\t Val. Loss: 1.028 |  Val. Acc: 59.44%\n",
      "epoch: 45\n"
     ]
    },
    {
     "name": "stderr",
     "output_type": "stream",
     "text": [
      "100%|██████████| 976/976 [00:04<00:00, 230.01it/s]\n",
      "100%|██████████| 244/244 [00:00<00:00, 531.82it/s]\n"
     ]
    },
    {
     "name": "stdout",
     "output_type": "stream",
     "text": [
      "\tTrain Loss: 0.920 | Train Acc: 62.94%\n",
      "\t Val. Loss: 1.023 |  Val. Acc: 59.96%\n",
      "epoch: 46\n"
     ]
    },
    {
     "name": "stderr",
     "output_type": "stream",
     "text": [
      "100%|██████████| 976/976 [00:04<00:00, 223.46it/s]\n",
      "100%|██████████| 244/244 [00:00<00:00, 431.64it/s]\n"
     ]
    },
    {
     "name": "stdout",
     "output_type": "stream",
     "text": [
      "\tTrain Loss: 0.919 | Train Acc: 62.96%\n",
      "\t Val. Loss: 1.024 |  Val. Acc: 59.73%\n",
      "epoch: 47\n"
     ]
    },
    {
     "name": "stderr",
     "output_type": "stream",
     "text": [
      "100%|██████████| 976/976 [00:04<00:00, 231.84it/s]\n",
      "100%|██████████| 244/244 [00:00<00:00, 514.47it/s]\n"
     ]
    },
    {
     "name": "stdout",
     "output_type": "stream",
     "text": [
      "\tTrain Loss: 0.918 | Train Acc: 62.98%\n",
      "\t Val. Loss: 1.022 |  Val. Acc: 59.93%\n",
      "epoch: 48\n"
     ]
    },
    {
     "name": "stderr",
     "output_type": "stream",
     "text": [
      "100%|██████████| 976/976 [00:04<00:00, 230.80it/s]\n",
      "100%|██████████| 244/244 [00:00<00:00, 534.02it/s]\n"
     ]
    },
    {
     "name": "stdout",
     "output_type": "stream",
     "text": [
      "\tTrain Loss: 0.918 | Train Acc: 62.99%\n",
      "\t Val. Loss: 1.024 |  Val. Acc: 60.05%\n",
      "epoch: 49\n"
     ]
    },
    {
     "name": "stderr",
     "output_type": "stream",
     "text": [
      "100%|██████████| 976/976 [00:04<00:00, 233.93it/s]\n",
      "100%|██████████| 244/244 [00:00<00:00, 519.74it/s]"
     ]
    },
    {
     "name": "stdout",
     "output_type": "stream",
     "text": [
      "\tTrain Loss: 0.917 | Train Acc: 63.04%\n",
      "\t Val. Loss: 1.019 |  Val. Acc: 60.17%\n"
     ]
    },
    {
     "name": "stderr",
     "output_type": "stream",
     "text": [
      "\n"
     ]
    }
   ],
   "source": [
    "N_EPOCHS = 50\n",
    "best_valid_loss = float('inf')\n",
    "\n",
    "train_loss_list=[]\n",
    "valid_loss_list=[]\n",
    "train_acc_list=[]\n",
    "valid_acc_list=[]\n",
    "\n",
    "for epoch in range(N_EPOCHS):\n",
    "    #训练模型\n",
    "    print('epoch:',epoch)\n",
    "    train_loss, train_acc = Train(model, train_iter, optimizer, criterion)\n",
    "    #评估模型\n",
    "    valid_loss, valid_acc = Evaluate(model, val_iter, criterion)\n",
    "    #保存模型\n",
    "    if valid_loss < best_valid_loss:\n",
    "        best_valid_loss = valid_loss\n",
    "        torch.save(model.state_dict(), 'saved_weights.pt')\n",
    "\n",
    "    train_loss_list.append(train_loss)\n",
    "    valid_loss_list.append(valid_loss)\n",
    "    train_acc_list.append(train_acc)\n",
    "    valid_acc_list.append(valid_acc)\n",
    "\n",
    "    print(f'\\tTrain Loss: {train_loss:.3f} | Train Acc: {train_acc*100:.2f}%')\n",
    "    print(f'\\t Val. Loss: {valid_loss:.3f} |  Val. Acc: {valid_acc*100:.2f}%')"
   ]
  },
  {
   "cell_type": "code",
   "execution_count": 44,
   "metadata": {},
   "outputs": [
    {
     "name": "stdout",
     "output_type": "stream",
     "text": [
      "![](./pic/textCNN-random-loss-50.jpg)\n"
     ]
    },
    {
     "data": {
      "image/png": "[encoded data removed]",
      "text/plain": [
       "<Figure size 432x288 with 1 Axes>"
      ]
     },
     "metadata": {
      "needs_background": "light"
     },
     "output_type": "display_data"
    },
    {
     "name": "stdout",
     "output_type": "stream",
     "text": [
      "![](./pic/textCNN-random-acc-50.jpg)\n"
     ]
    },
    {
     "data": {
      "image/png": "[encoded data removed]",
      "text/plain": [
       "<Figure size 432x288 with 1 Axes>"
      ]
     },
     "metadata": {
      "needs_background": "light"
     },
     "output_type": "display_data"
    }
   ],
   "source": [
    "\n",
    "\n",
    "def drawpic(train_loss_list=[],test_loss_list=[],epoch_number=10,title='1',root_path='./'):\n",
    "    # make data\n",
    "    x = [i for i in range(epoch_number)]\n",
    "    # plot\n",
    "    fig, ax = plt.subplots()\n",
    "    plt.title(title)\n",
    "    ax.plot(x, train_loss_list, linewidth=2.0)\n",
    "    ax.plot(x, test_loss_list, linewidth=2.0)\n",
    "    path=root_path+title+'.jpg'\n",
    "    print('![]({})'.format(path))\n",
    "    plt.savefig(path)\n",
    "    plt.show()\n",
    "root_path='./pic/'\n",
    "title='textCNN-random-loss-{}'.format(str(N_EPOCHS))\n",
    "\n",
    "drawpic(train_loss_list=train_loss_list,test_loss_list=valid_loss_list,epoch_number=N_EPOCHS,title=title,root_path=root_path)\n",
    "\n",
    "title='textCNN-random-acc-{}'.format(str(N_EPOCHS))\n",
    "\n",
    "drawpic(train_loss_list=train_acc_list,test_loss_list=valid_acc_list,epoch_number=N_EPOCHS,title=title,root_path=root_path)"
   ]
  },
  {
   "cell_type": "code",
   "execution_count": null,
   "metadata": {},
   "outputs": [
    {
     "name": "stderr",
     "output_type": "stream",
     "text": [
      "100%|██████████| 518/518 [00:01<00:00, 280.20it/s]\n"
     ]
    },
    {
     "data": {
      "text/plain": [
       "66292"
      ]
     },
     "execution_count": 104,
     "metadata": {},
     "output_type": "execute_result"
    }
   ],
   "source": [
    "predict=Test(model, test_iter, criterion)\n",
    "len(predict)\n"
   ]
  },
  {
   "cell_type": "code",
   "execution_count": null,
   "metadata": {},
   "outputs": [],
   "source": [
    "\n",
    "df_test=pd.read_csv('./data/sampleSubmission.csv')\n",
    "df_test['Sentiment']=predict\n",
    "df_test.to_csv('./submission.csv',index=None)"
   ]
  },
  {
   "cell_type": "code",
   "execution_count": null,
   "metadata": {},
   "outputs": [
    {
     "ename": "ValueError",
     "evalue": "only one element tensors can be converted to Python scalars",
     "output_type": "error",
     "traceback": [
      "\u001b[1;31m---------------------------------------------------------------------------\u001b[0m",
      "\u001b[1;31mValueError\u001b[0m                                Traceback (most recent call last)",
      "\u001b[1;32m~\\AppData\\Local\\Temp/ipykernel_34604/88635740.py\u001b[0m in \u001b[0;36m<module>\u001b[1;34m\u001b[0m\n\u001b[0;32m     17\u001b[0m \u001b[1;33m\u001b[0m\u001b[0m\n\u001b[0;32m     18\u001b[0m \u001b[1;31m#进行预测\u001b[0m\u001b[1;33m\u001b[0m\u001b[1;33m\u001b[0m\u001b[0m\n\u001b[1;32m---> 19\u001b[1;33m \u001b[0mprint\u001b[0m\u001b[1;33m(\u001b[0m\u001b[0mpredict\u001b[0m\u001b[1;33m(\u001b[0m\u001b[0mmodel\u001b[0m\u001b[1;33m,\u001b[0m \u001b[1;34m\"fuck fuck shit bitch?\"\u001b[0m\u001b[1;33m)\u001b[0m\u001b[1;33m)\u001b[0m\u001b[1;33m\u001b[0m\u001b[1;33m\u001b[0m\u001b[0m\n\u001b[0m\u001b[0;32m     20\u001b[0m \u001b[1;31m#不真诚的问题\u001b[0m\u001b[1;33m\u001b[0m\u001b[1;33m\u001b[0m\u001b[0m\n\u001b[0;32m     21\u001b[0m \u001b[0mprint\u001b[0m\u001b[1;33m(\u001b[0m\u001b[0mpredict\u001b[0m\u001b[1;33m(\u001b[0m\u001b[0mmodel\u001b[0m\u001b[1;33m,\u001b[0m \u001b[1;34m\"Why Indian girls go crazy about marrying Shri. Rahul Gandhi ji?\"\u001b[0m\u001b[1;33m)\u001b[0m\u001b[1;33m)\u001b[0m\u001b[1;33m\u001b[0m\u001b[1;33m\u001b[0m\u001b[0m\n",
      "\u001b[1;32m~\\AppData\\Local\\Temp/ipykernel_34604/88635740.py\u001b[0m in \u001b[0;36mpredict\u001b[1;34m(model, text)\u001b[0m\n\u001b[0;32m     14\u001b[0m     \u001b[0mlength_tensor\u001b[0m \u001b[1;33m=\u001b[0m \u001b[0mtorch\u001b[0m\u001b[1;33m.\u001b[0m\u001b[0mLongTensor\u001b[0m\u001b[1;33m(\u001b[0m\u001b[0mlength\u001b[0m\u001b[1;33m)\u001b[0m                   \u001b[1;31m#转换为张量\u001b[0m\u001b[1;33m\u001b[0m\u001b[1;33m\u001b[0m\u001b[0m\n\u001b[0;32m     15\u001b[0m     \u001b[0mprediction\u001b[0m \u001b[1;33m=\u001b[0m \u001b[0mmodel\u001b[0m\u001b[1;33m(\u001b[0m\u001b[0mtensor\u001b[0m\u001b[1;33m)\u001b[0m                  \u001b[1;31m#预测\u001b[0m\u001b[1;33m\u001b[0m\u001b[1;33m\u001b[0m\u001b[0m\n\u001b[1;32m---> 16\u001b[1;33m     \u001b[1;32mreturn\u001b[0m \u001b[0mprediction\u001b[0m\u001b[1;33m.\u001b[0m\u001b[0mitem\u001b[0m\u001b[1;33m(\u001b[0m\u001b[1;33m)\u001b[0m\u001b[1;33m\u001b[0m\u001b[1;33m\u001b[0m\u001b[0m\n\u001b[0m\u001b[0;32m     17\u001b[0m \u001b[1;33m\u001b[0m\u001b[0m\n\u001b[0;32m     18\u001b[0m \u001b[1;31m#进行预测\u001b[0m\u001b[1;33m\u001b[0m\u001b[1;33m\u001b[0m\u001b[0m\n",
      "\u001b[1;31mValueError\u001b[0m: only one element tensors can be converted to Python scalars"
     ]
    }
   ],
   "source": [
    "#加载权重\n",
    "path='./saved_weights.pt'\n",
    "model.load_state_dict(torch.load(path))\n",
    "model.eval()\n",
    "#推断 \n",
    "\n",
    "def predict(model, text):\n",
    "    tokenized = [wd for wd in jieba.cut(text, cut_all=False)]\n",
    "  #令牌化(tokenize)句子 \n",
    "    indexed = [TEXT.vocab.stoi[t] for t in tokenized]          #转换为整数序列\n",
    "    length = [len(indexed)]                                    #计算单词个数\n",
    "    tensor = torch.LongTensor(indexed).to(DEVICE)              #转换为张量\n",
    "    tensor = tensor.unsqueeze(1).T                             #reshape成[batch, 单词个数]\n",
    "    length_tensor = torch.LongTensor(length)                   #转换为张量\n",
    "    prediction = model(tensor)                  #预测\n",
    "    return prediction.item()\n",
    "\n",
    "#进行预测\n",
    "print(predict(model, \"fuck fuck shit bitch?\"))\n",
    "#不真诚的问题\n",
    "print(predict(model, \"Why Indian girls go crazy about marrying Shri. Rahul Gandhi ji?\"))"
   ]
  }
 ],
 "metadata": {
  "interpreter": {
   "hash": "b3ba2566441a7c06988d0923437866b63cedc61552a5af99d1f4fb67d367b25f"
  },
  "kernelspec": {
   "display_name": "Python 3.9.7 64-bit ('base': conda)",
   "language": "python",
   "name": "python3"
  },
  "language_info": {
   "codemirror_mode": {
    "name": "ipython",
    "version": 3
   },
   "file_extension": ".py",
   "mimetype": "text/x-python",
   "name": "python",
   "nbconvert_exporter": "python",
   "pygments_lexer": "ipython3",
   "version": "3.9.7"
  },
  "orig_nbformat": 4
 },
 "nbformat": 4,
 "nbformat_minor": 2
}
