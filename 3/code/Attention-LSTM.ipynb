{
 "cells": [
  {
   "cell_type": "markdown",
   "metadata": {},
   "source": [
    "代码来源：https://github.com/bentrevett/pytorch-nli"
   ]
  },
  {
   "cell_type": "code",
   "execution_count": 1,
   "metadata": {},
   "outputs": [],
   "source": [
    "import torch\n",
    "import torch.nn as nn\n",
    "import torch.nn.functional as F\n",
    "import torch.optim as optim\n",
    "from torchtext.legacy import data,datasets\n",
    "\n",
    "import random\n",
    "import numpy as np\n",
    "\n",
    "import time\n",
    "\n",
    "from tqdm import tqdm"
   ]
  },
  {
   "cell_type": "code",
   "execution_count": 2,
   "metadata": {},
   "outputs": [],
   "source": [
    "SEED = 1234\n",
    "\n",
    "random.seed(SEED)\n",
    "np.random.seed(SEED)\n",
    "torch.manual_seed(SEED)\n",
    "torch.backends.cudnn.deterministic = True"
   ]
  },
  {
   "cell_type": "code",
   "execution_count": 3,
   "metadata": {},
   "outputs": [],
   "source": [
    "TEXT = data.Field(tokenize = 'spacy', tokenizer_language='en_core_web_sm',lower = True)\n",
    "LABEL = data.LabelField(sequential=False)"
   ]
  },
  {
   "cell_type": "code",
   "execution_count": 4,
   "metadata": {},
   "outputs": [],
   "source": [
    "train_data, valid_data, test_data = datasets.SNLI.splits(TEXT, LABEL)"
   ]
  },
  {
   "cell_type": "code",
   "execution_count": 66,
   "metadata": {},
   "outputs": [],
   "source": [
    "train_data.examples=train_data.examples[0:10000]"
   ]
  },
  {
   "cell_type": "code",
   "execution_count": 67,
   "metadata": {},
   "outputs": [
    {
     "name": "stdout",
     "output_type": "stream",
     "text": [
      "Number of training examples: 10000\n",
      "Number of validation examples: 9842\n",
      "Number of testing examples: 9824\n"
     ]
    }
   ],
   "source": [
    "print(f\"Number of training examples: {len(train_data)}\")\n",
    "print(f\"Number of validation examples: {len(valid_data)}\")\n",
    "print(f\"Number of testing examples: {len(test_data)}\")"
   ]
  },
  {
   "cell_type": "code",
   "execution_count": 68,
   "metadata": {},
   "outputs": [
    {
     "name": "stdout",
     "output_type": "stream",
     "text": [
      "{'premise': ['a', 'person', 'on', 'a', 'horse', 'jumps', 'over', 'a', 'broken', 'down', 'airplane', '.'], 'hypothesis': ['a', 'person', 'is', 'training', 'his', 'horse', 'for', 'a', 'competition', '.'], 'label': 'neutral'}\n"
     ]
    }
   ],
   "source": [
    "print(vars(train_data.examples[0]))"
   ]
  },
  {
   "cell_type": "code",
   "execution_count": 69,
   "metadata": {},
   "outputs": [],
   "source": [
    "MIN_FREQ = 2\n",
    "\n",
    "TEXT.build_vocab(train_data, \n",
    "                 min_freq = MIN_FREQ,\n",
    "                 vectors = \"glove.6B.100d\",\n",
    "                 unk_init = torch.Tensor.normal_)\n",
    "\n",
    "LABEL.build_vocab(train_data)"
   ]
  },
  {
   "cell_type": "code",
   "execution_count": 70,
   "metadata": {},
   "outputs": [
    {
     "name": "stdout",
     "output_type": "stream",
     "text": [
      "Unique tokens in TEXT vocabulary: 3972\n"
     ]
    }
   ],
   "source": [
    "print(f\"Unique tokens in TEXT vocabulary: {len(TEXT.vocab)}\")"
   ]
  },
  {
   "cell_type": "code",
   "execution_count": 71,
   "metadata": {},
   "outputs": [
    {
     "name": "stdout",
     "output_type": "stream",
     "text": [
      "[('a', 25919), ('.', 17395), ('the', 9645), ('in', 7571), ('is', 6374), ('man', 4757), ('on', 4319), ('and', 3882), ('are', 3716), ('of', 3463), ('with', 3043), ('woman', 2654), ('people', 2357), ('two', 2336), (',', 2223), ('to', 2123), ('at', 1990), ('an', 1463), ('his', 1376), ('wearing', 1375)]\n"
     ]
    }
   ],
   "source": [
    "print(TEXT.vocab.freqs.most_common(20))"
   ]
  },
  {
   "cell_type": "code",
   "execution_count": 72,
   "metadata": {},
   "outputs": [],
   "source": [
    "BATCH_SIZE = 512\n",
    "\n",
    "device = torch.device('cuda' if torch.cuda.is_available() else 'cpu')\n",
    "\n",
    "train_iterator, valid_iterator, test_iterator = data.BucketIterator.splits(\n",
    "    (train_data, valid_data, test_data), \n",
    "    batch_size = BATCH_SIZE,\n",
    "    device = device)"
   ]
  },
  {
   "cell_type": "markdown",
   "metadata": {},
   "source": [
    "### BiLSTM\n",
    "\n",
    "\n",
    "\n"
   ]
  },
  {
   "cell_type": "code",
   "execution_count": 73,
   "metadata": {},
   "outputs": [],
   "source": [
    "class NLIBiLSTM(nn.Module):\n",
    "    def __init__(self, \n",
    "                 input_dim, \n",
    "                 embedding_dim,\n",
    "                 hidden_dim,\n",
    "                 n_lstm_layers,\n",
    "                 n_fc_layers,\n",
    "                 output_dim, \n",
    "                 dropout, \n",
    "                 pad_idx):\n",
    "        \n",
    "        super().__init__()\n",
    "                                \n",
    "        self.embedding = nn.Embedding(input_dim, embedding_dim, padding_idx = pad_idx)\n",
    "        \n",
    "        self.translation = nn.Linear(embedding_dim, hidden_dim)\n",
    "        \n",
    "        self.lstm = nn.LSTM(hidden_dim, \n",
    "                            hidden_dim, \n",
    "                            num_layers = n_lstm_layers, \n",
    "                            bidirectional = True, \n",
    "                            dropout=dropout if n_lstm_layers > 1 else 0)\n",
    "        \n",
    "        fc_dim = hidden_dim * 2\n",
    "        \n",
    "        fcs = [nn.Linear(fc_dim * 2, fc_dim * 2) for _ in range(n_fc_layers)]\n",
    "        \n",
    "        self.fcs = nn.ModuleList(fcs)\n",
    "        \n",
    "        self.fc_out = nn.Linear(fc_dim * 2, output_dim)\n",
    "        \n",
    "        self.dropout = nn.Dropout(dropout)\n",
    "        \n",
    "    def forward(self, prem, hypo):\n",
    "\n",
    "        prem_seq_len, batch_size = prem.shape\n",
    "        hypo_seq_len, _ = hypo.shape\n",
    "        \n",
    "        #prem = [prem sent len, batch size]\n",
    "        #hypo = [hypo sent len, batch size]\n",
    "        \n",
    "        embedded_prem = self.embedding(prem)\n",
    "        embedded_hypo = self.embedding(hypo)\n",
    "        \n",
    "        #embedded_prem = [prem sent len, batch size, embedding dim]\n",
    "        #embedded_hypo = [hypo sent len, batch size, embedding dim]\n",
    "        \n",
    "        translated_prem = F.relu(self.translation(embedded_prem))\n",
    "        translated_hypo = F.relu(self.translation(embedded_hypo))\n",
    "        \n",
    "        #translated_prem = [prem sent len, batch size, hidden dim]\n",
    "        #translated_hypo = [hypo sent len, batch size, hidden dim]\n",
    "        \n",
    "        outputs_prem, (hidden_prem, cell_prem) = self.lstm(translated_prem)\n",
    "        outputs_hypo, (hidden_hypo, cell_hypo) = self.lstm(translated_hypo)\n",
    "\n",
    "        #outputs_x = [sent len, batch size, n directions * hid dim]\n",
    "        #hidden_x = [n layers * n directions, batch size, hid dim]\n",
    "        #cell_x = [n layers * n directions, batch size, hid dim]\n",
    "        \n",
    "        hidden_prem = torch.cat((hidden_prem[-1], hidden_prem[-2]), dim=-1)\n",
    "        hidden_hypo = torch.cat((hidden_hypo[-1], hidden_hypo[-2]), dim=-1)\n",
    "        \n",
    "        #hidden_x = [batch size, fc dim]\n",
    "\n",
    "        hidden = torch.cat((hidden_prem, hidden_hypo), dim=1)\n",
    "\n",
    "        #hidden = [batch size, fc dim * 2]\n",
    "        \n",
    "        # 不要线性层\n",
    "        # for fc in self.fcs:\n",
    "        #     hidden = fc(hidden)\n",
    "        #     hidden = F.relu(hidden)\n",
    "        #     hidden = self.dropout(hidden)\n",
    "        \n",
    "        prediction = self.fc_out(hidden)\n",
    "        \n",
    "        #prediction = [batch size, output dim]\n",
    "        \n",
    "        return prediction"
   ]
  },
  {
   "cell_type": "code",
   "execution_count": 96,
   "metadata": {},
   "outputs": [],
   "source": [
    "INPUT_DIM = len(TEXT.vocab)\n",
    "EMBEDDING_DIM = 100\n",
    "HIDDEN_DIM = 300\n",
    "N_LSTM_LAYERS = 2\n",
    "N_FC_LAYERS = 3\n",
    "OUTPUT_DIM = len(LABEL.vocab)\n",
    "DROPOUT = 0.25\n",
    "PAD_IDX = TEXT.vocab.stoi[TEXT.pad_token]\n",
    "\n",
    "model = NLIBiLSTM(INPUT_DIM,\n",
    "                  EMBEDDING_DIM,\n",
    "                  HIDDEN_DIM,\n",
    "                  N_LSTM_LAYERS,\n",
    "                  N_FC_LAYERS,\n",
    "                  OUTPUT_DIM,\n",
    "                  DROPOUT,\n",
    "                  PAD_IDX).to(device)"
   ]
  },
  {
   "cell_type": "code",
   "execution_count": 75,
   "metadata": {},
   "outputs": [
    {
     "name": "stdout",
     "output_type": "stream",
     "text": [
      "The model has 8,364,303 trainable parameters\n"
     ]
    }
   ],
   "source": [
    "def count_parameters(model):\n",
    "    return sum(p.numel() for p in model.parameters() if p.requires_grad)\n",
    "    \n",
    "print(f'The model has {count_parameters(model):,} trainable parameters')"
   ]
  },
  {
   "cell_type": "code",
   "execution_count": 76,
   "metadata": {},
   "outputs": [
    {
     "name": "stdout",
     "output_type": "stream",
     "text": [
      "torch.Size([3972, 100])\n"
     ]
    }
   ],
   "source": [
    "pretrained_embeddings = TEXT.vocab.vectors\n",
    "print(pretrained_embeddings.shape)"
   ]
  },
  {
   "cell_type": "code",
   "execution_count": 77,
   "metadata": {},
   "outputs": [
    {
     "data": {
      "text/plain": [
       "tensor([[ 1.4816,  0.7536,  0.4595,  ...,  1.0832, -1.1331,  0.5280],\n",
       "        [ 0.8705, -0.7628, -0.6878,  ...,  0.0246,  2.7670, -0.5691],\n",
       "        [-0.2709,  0.0440, -0.0203,  ..., -0.4923,  0.6369,  0.2364],\n",
       "        ...,\n",
       "        [-0.1194,  0.5419,  0.6217,  ..., -0.3805, -0.0422,  0.3516],\n",
       "        [-0.1184, -2.4061,  0.2519,  ...,  0.6506, -0.7514,  0.8046],\n",
       "        [-0.1509,  0.2089,  0.7544,  ..., -0.2359,  0.4850,  0.0263]],\n",
       "       device='cuda:0')"
      ]
     },
     "execution_count": 77,
     "metadata": {},
     "output_type": "execute_result"
    }
   ],
   "source": [
    "model.embedding.weight.data.copy_(pretrained_embeddings)"
   ]
  },
  {
   "cell_type": "code",
   "execution_count": 78,
   "metadata": {},
   "outputs": [
    {
     "name": "stdout",
     "output_type": "stream",
     "text": [
      "tensor([[ 1.4816,  0.7536,  0.4595,  ...,  1.0832, -1.1331,  0.5280],\n",
      "        [ 0.0000,  0.0000,  0.0000,  ...,  0.0000,  0.0000,  0.0000],\n",
      "        [-0.2709,  0.0440, -0.0203,  ..., -0.4923,  0.6369,  0.2364],\n",
      "        ...,\n",
      "        [-0.1194,  0.5419,  0.6217,  ..., -0.3805, -0.0422,  0.3516],\n",
      "        [-0.1184, -2.4061,  0.2519,  ...,  0.6506, -0.7514,  0.8046],\n",
      "        [-0.1509,  0.2089,  0.7544,  ..., -0.2359,  0.4850,  0.0263]],\n",
      "       device='cuda:0')\n"
     ]
    }
   ],
   "source": [
    "model.embedding.weight.data[PAD_IDX] = torch.zeros(EMBEDDING_DIM)\n",
    "\n",
    "print(model.embedding.weight.data)"
   ]
  },
  {
   "cell_type": "code",
   "execution_count": 79,
   "metadata": {},
   "outputs": [],
   "source": [
    "model.embedding.weight.requires_grad = False"
   ]
  },
  {
   "cell_type": "code",
   "execution_count": 80,
   "metadata": {},
   "outputs": [
    {
     "name": "stdout",
     "output_type": "stream",
     "text": [
      "NLIBiLSTM(\n",
      "  (embedding): Embedding(3972, 100, padding_idx=1)\n",
      "  (translation): Linear(in_features=100, out_features=300, bias=True)\n",
      "  (lstm): LSTM(300, 300, num_layers=2, dropout=0.25, bidirectional=True)\n",
      "  (fcs): ModuleList(\n",
      "    (0): Linear(in_features=1200, out_features=1200, bias=True)\n",
      "    (1): Linear(in_features=1200, out_features=1200, bias=True)\n",
      "    (2): Linear(in_features=1200, out_features=1200, bias=True)\n",
      "  )\n",
      "  (fc_out): Linear(in_features=1200, out_features=3, bias=True)\n",
      "  (dropout): Dropout(p=0.25, inplace=False)\n",
      ")\n"
     ]
    }
   ],
   "source": [
    "print(model)"
   ]
  },
  {
   "cell_type": "code",
   "execution_count": 81,
   "metadata": {},
   "outputs": [],
   "source": [
    "optimizer = optim.Adam(model.parameters())\n",
    "criterion = nn.CrossEntropyLoss().to(device)\n"
   ]
  },
  {
   "cell_type": "code",
   "execution_count": 82,
   "metadata": {},
   "outputs": [],
   "source": [
    "def categorical_accuracy(preds, y):\n",
    "    \"\"\"\n",
    "    Returns accuracy per batch, i.e. if you get 8/10 right, this returns 0.8, NOT 8\n",
    "    \"\"\"\n",
    "    max_preds = preds.argmax(dim = 1, keepdim = True) # get the index of the max probability\n",
    "    correct = max_preds.squeeze(1).eq(y)\n",
    "    correct=torch.tensor(correct.sum()).to(device)\n",
    "    all=torch.tensor(y.shape[0]).to(device)\n",
    "\n",
    "    return correct/ all"
   ]
  },
  {
   "cell_type": "code",
   "execution_count": 83,
   "metadata": {},
   "outputs": [],
   "source": [
    "def train(model, iterator, optimizer, criterion):\n",
    "    \n",
    "    epoch_loss = 0\n",
    "    epoch_acc = 0\n",
    "    \n",
    "    model.train()\n",
    "    \n",
    "    for batch in tqdm(iterator):\n",
    "        \n",
    "        prem = batch.premise\n",
    "        hypo = batch.hypothesis\n",
    "        labels = batch.label\n",
    "        \n",
    "        optimizer.zero_grad()\n",
    "        \n",
    "        #prem = [prem sent len, batch size]\n",
    "        #hypo = [hypo sent len, batch size]\n",
    "        \n",
    "        predictions = model(prem, hypo)\n",
    "        \n",
    "\n",
    "        #predictions = [batch size, output dim]\n",
    "        #labels = [batch size]\n",
    "        \n",
    "        loss = criterion(predictions, labels)\n",
    "                \n",
    "        acc = categorical_accuracy(predictions, labels)\n",
    "        \n",
    "        loss.backward()\n",
    "        \n",
    "        optimizer.step()\n",
    "        \n",
    "        epoch_loss += loss.item()\n",
    "        epoch_acc += acc.item()\n",
    "        \n",
    "    return epoch_loss / len(iterator), epoch_acc / len(iterator)"
   ]
  },
  {
   "cell_type": "code",
   "execution_count": 84,
   "metadata": {},
   "outputs": [],
   "source": [
    "def evaluate(model, iterator, criterion):\n",
    "    \n",
    "    epoch_loss = 0\n",
    "    epoch_acc = 0\n",
    "    \n",
    "    model.eval()\n",
    "    \n",
    "    with torch.no_grad():\n",
    "    \n",
    "        for batch in tqdm(iterator):\n",
    "\n",
    "            prem = batch.premise\n",
    "            hypo = batch.hypothesis\n",
    "            labels = batch.label\n",
    "                        \n",
    "            predictions = model(prem, hypo)\n",
    "            \n",
    "            loss = criterion(predictions, labels)\n",
    "                \n",
    "            acc = categorical_accuracy(predictions, labels)\n",
    "            \n",
    "            epoch_loss += loss.item()\n",
    "            epoch_acc += acc.item()\n",
    "        \n",
    "    return epoch_loss / len(iterator), epoch_acc / len(iterator)"
   ]
  },
  {
   "cell_type": "code",
   "execution_count": 85,
   "metadata": {},
   "outputs": [],
   "source": [
    "def epoch_time(start_time, end_time):\n",
    "    elapsed_time = end_time - start_time\n",
    "    elapsed_mins = int(elapsed_time / 60)\n",
    "    elapsed_secs = int(elapsed_time - (elapsed_mins * 60))\n",
    "    return elapsed_mins, elapsed_secs"
   ]
  },
  {
   "cell_type": "code",
   "execution_count": 86,
   "metadata": {},
   "outputs": [
    {
     "name": "stderr",
     "output_type": "stream",
     "text": [
      "  0%|          | 0/20 [00:00<?, ?it/s]C:\\Users\\zoro\\AppData\\Local\\Temp/ipykernel_9672/2499469631.py:7: UserWarning: To copy construct from a tensor, it is recommended to use sourceTensor.clone().detach() or sourceTensor.clone().detach().requires_grad_(True), rather than torch.tensor(sourceTensor).\n",
      "  correct=torch.tensor(correct.sum()).to(device)\n",
      "100%|██████████| 20/20 [00:10<00:00,  1.99it/s]\n",
      "100%|██████████| 20/20 [00:00<00:00, 21.13it/s]\n"
     ]
    },
    {
     "name": "stdout",
     "output_type": "stream",
     "text": [
      "Epoch: 01 | Epoch Time: 0m 11s\n",
      "\tTrain Loss: 1.064 | Train Acc: 41.23%\n",
      "\t Val. Loss: 1.025 |  Val. Acc: 48.37%\n"
     ]
    },
    {
     "name": "stderr",
     "output_type": "stream",
     "text": [
      "100%|██████████| 20/20 [00:09<00:00,  2.20it/s]\n",
      "100%|██████████| 20/20 [00:00<00:00, 21.09it/s]\n"
     ]
    },
    {
     "name": "stdout",
     "output_type": "stream",
     "text": [
      "Epoch: 02 | Epoch Time: 0m 10s\n",
      "\tTrain Loss: 0.983 | Train Acc: 52.10%\n",
      "\t Val. Loss: 0.983 |  Val. Acc: 52.64%\n"
     ]
    },
    {
     "name": "stderr",
     "output_type": "stream",
     "text": [
      "100%|██████████| 20/20 [00:09<00:00,  2.12it/s]\n",
      "100%|██████████| 20/20 [00:00<00:00, 21.11it/s]\n"
     ]
    },
    {
     "name": "stdout",
     "output_type": "stream",
     "text": [
      "Epoch: 03 | Epoch Time: 0m 10s\n",
      "\tTrain Loss: 0.933 | Train Acc: 55.82%\n",
      "\t Val. Loss: 0.950 |  Val. Acc: 54.50%\n"
     ]
    },
    {
     "name": "stderr",
     "output_type": "stream",
     "text": [
      "100%|██████████| 20/20 [00:09<00:00,  2.05it/s]\n",
      "100%|██████████| 20/20 [00:00<00:00, 21.42it/s]\n"
     ]
    },
    {
     "name": "stdout",
     "output_type": "stream",
     "text": [
      "Epoch: 04 | Epoch Time: 0m 10s\n",
      "\tTrain Loss: 0.898 | Train Acc: 58.69%\n",
      "\t Val. Loss: 0.930 |  Val. Acc: 55.69%\n"
     ]
    },
    {
     "name": "stderr",
     "output_type": "stream",
     "text": [
      "100%|██████████| 20/20 [00:09<00:00,  2.05it/s]\n",
      "100%|██████████| 20/20 [00:00<00:00, 20.97it/s]"
     ]
    },
    {
     "name": "stdout",
     "output_type": "stream",
     "text": [
      "Epoch: 05 | Epoch Time: 0m 10s\n",
      "\tTrain Loss: 0.869 | Train Acc: 60.58%\n",
      "\t Val. Loss: 0.913 |  Val. Acc: 56.49%\n"
     ]
    },
    {
     "name": "stderr",
     "output_type": "stream",
     "text": [
      "\n"
     ]
    }
   ],
   "source": [
    "N_EPOCHS = 5\n",
    "\n",
    "best_valid_loss = float('inf')\n",
    "\n",
    "for epoch in range(N_EPOCHS):\n",
    "\n",
    "    start_time = time.time()\n",
    "    \n",
    "    train_loss, train_acc = train(model, train_iterator, optimizer, criterion)\n",
    "    valid_loss, valid_acc = evaluate(model, valid_iterator, criterion)\n",
    "    \n",
    "    end_time = time.time()\n",
    "\n",
    "    epoch_mins, epoch_secs = epoch_time(start_time, end_time)\n",
    "    \n",
    "    if valid_loss < best_valid_loss:\n",
    "        best_valid_loss = valid_loss\n",
    "        torch.save(model.state_dict(), 'tut1-model.pt')\n",
    "    \n",
    "    print(f'Epoch: {epoch+1:02} | Epoch Time: {epoch_mins}m {epoch_secs}s')\n",
    "    print(f'\\tTrain Loss: {train_loss:.3f} | Train Acc: {train_acc*100:.2f}%')\n",
    "    print(f'\\t Val. Loss: {valid_loss:.3f} |  Val. Acc: {valid_acc*100:.2f}%')"
   ]
  },
  {
   "cell_type": "code",
   "execution_count": 87,
   "metadata": {},
   "outputs": [
    {
     "name": "stderr",
     "output_type": "stream",
     "text": [
      "  0%|          | 0/20 [00:00<?, ?it/s]C:\\Users\\zoro\\AppData\\Local\\Temp/ipykernel_9672/2499469631.py:7: UserWarning: To copy construct from a tensor, it is recommended to use sourceTensor.clone().detach() or sourceTensor.clone().detach().requires_grad_(True), rather than torch.tensor(sourceTensor).\n",
      "  correct=torch.tensor(correct.sum()).to(device)\n",
      "100%|██████████| 20/20 [00:00<00:00, 20.63it/s]"
     ]
    },
    {
     "name": "stdout",
     "output_type": "stream",
     "text": [
      "Test Loss: 0.914 |  Test Acc: 56.97%\n"
     ]
    },
    {
     "name": "stderr",
     "output_type": "stream",
     "text": [
      "\n"
     ]
    }
   ],
   "source": [
    "model.load_state_dict(torch.load('tut1-model.pt'))\n",
    "\n",
    "test_loss, test_acc = evaluate(model, test_iterator, criterion)\n",
    "\n",
    "print(f'Test Loss: {test_loss:.3f} |  Test Acc: {test_acc*100:.2f}%')"
   ]
  },
  {
   "cell_type": "code",
   "execution_count": 88,
   "metadata": {},
   "outputs": [],
   "source": [
    "def predict_inference(premise, hypothesis, text_field, label_field, model, device):\n",
    "    \n",
    "    model.eval()\n",
    "    \n",
    "    if isinstance(premise, str):\n",
    "        premise = text_field.tokenize(premise)\n",
    "    \n",
    "    if isinstance(hypothesis, str):\n",
    "        hypothesis = text_field.tokenize(hypothesis)\n",
    "    \n",
    "    if text_field.lower:\n",
    "        premise = [t.lower() for t in premise]\n",
    "        hypothesis = [t.lower() for t in hypothesis]\n",
    "        \n",
    "    premise = [text_field.vocab.stoi[t] for t in premise]\n",
    "    hypothesis = [text_field.vocab.stoi[t] for t in hypothesis]\n",
    "    \n",
    "    premise = torch.LongTensor(premise).unsqueeze(1).to(device)\n",
    "    hypothesis = torch.LongTensor(hypothesis).unsqueeze(1).to(device)\n",
    "    \n",
    "    prediction = model(premise, hypothesis)\n",
    "    \n",
    "    prediction = prediction.argmax(dim=-1).item()\n",
    "    \n",
    "    return label_field.vocab.itos[prediction]"
   ]
  },
  {
   "cell_type": "code",
   "execution_count": 95,
   "metadata": {},
   "outputs": [
    {
     "data": {
      "text/plain": [
       "'contradiction'"
      ]
     },
     "execution_count": 95,
     "metadata": {},
     "output_type": "execute_result"
    }
   ],
   "source": [
    "premise = 'a man sitting on a green bench.'\n",
    "hypothesis = 'a woman sitting on a green bench.'\n",
    "predict_inference(premise, hypothesis, TEXT, LABEL, model, device)"
   ]
  },
  {
   "cell_type": "code",
   "execution_count": null,
   "metadata": {},
   "outputs": [],
   "source": []
  }
 ],
 "metadata": {
  "interpreter": {
   "hash": "b69a98d3df882577ba469635c4ab08c5ae67eaedfd3a57f311f98966a6edb2d0"
  },
  "kernelspec": {
   "display_name": "Python 3.9.7 64-bit ('torch': conda)",
   "language": "python",
   "name": "python3"
  },
  "language_info": {
   "codemirror_mode": {
    "name": "ipython",
    "version": 3
   },
   "file_extension": ".py",
   "mimetype": "text/x-python",
   "name": "python",
   "nbconvert_exporter": "python",
   "pygments_lexer": "ipython3",
   "version": "3.9.7"
  },
  "orig_nbformat": 4
 },
 "nbformat": 4,
 "nbformat_minor": 2
}
