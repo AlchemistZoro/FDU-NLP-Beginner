{
 "cells": [
  {
   "cell_type": "markdown",
   "metadata": {},
   "source": [
    "论文参考：\n",
    "\n",
    "1. *Enhanced LSTM for Natural Language Inference* .2017\n",
    "2. *Neural Architectures for Named Entity Recognition* .2017\n",
    "3. *A Decomposable Attention Model for Natural Language Inference* .2016\n",
    "\n",
    "代码参考：\n",
    "1. [分散注意力网络解决推断问题](https://d2l.ai/chapter_natural-language-processing-applications/natural-language-inference-attention.html)\n"
   ]
  },
  {
   "cell_type": "code",
   "execution_count": 1,
   "metadata": {},
   "outputs": [],
   "source": [
    "# module used\n",
    "import torch \n",
    "import torch.nn as nn\n",
    "import torch.nn.functional as F\n",
    "import torch.optim as optim\n",
    "from torchtext.legacy import data,datasets\n",
    "\n",
    "import random\n",
    "import numpy as np\n",
    "import matplotlib.pyplot as plt\n",
    "import pandas as pd\n",
    "\n",
    "import time\n",
    "from tqdm import tqdm\n",
    "\n",
    "import spacy\n",
    "import jieba "
   ]
  },
  {
   "cell_type": "code",
   "execution_count": 4,
   "metadata": {},
   "outputs": [],
   "source": [
    "# seed\n",
    "SEED=2022\n",
    "random.seed(SEED)\n",
    "torch.manual_seed(SEED)\n",
    "np.random.seed(SEED)\n",
    "torch.backends.cudnn.deterministic=True\n",
    "\n",
    "MODE=0 # 0:try mode ,set little train_vector"
   ]
  },
  {
   "cell_type": "code",
   "execution_count": 5,
   "metadata": {},
   "outputs": [],
   "source": [
    "# DataLoader\n",
    "\n",
    "\n",
    "TEXT=data.Field(tokenize='spacy',tokenizer_language='en_core_web_sm',lower=True)\n",
    "\n",
    "\n",
    "# # use jieba( very slow)\n",
    "# def tokenizer(text):    \n",
    "#     return [wd for wd in jieba.cut(text, cut_all=False)]\n",
    "# TEXT=data.Field(tokenize=tokenizer,lower=True)\n",
    "\n",
    "LABEL=data.LabelField(sequential=False)\n",
    "\n",
    "train_data,valid_data,test_data=datasets.SNLI.splits(TEXT,LABEL)\n",
    "\n",
    "if MODE ==0:\n",
    "    train_data.examples=train_data.examples[0:10000]\n",
    "\n",
    "\n",
    "MIN_FREQ=2\n",
    "#embedding number:[ 50,100,200,300] first try 100,and paper use 300.\n",
    "EMBEDDING_DIM=300\n",
    "TEXT.build_vocab(\n",
    "    train_data,\n",
    "    min_freq=MIN_FREQ,\n",
    "    vectors=\"glove.6B.{}d\".format(EMBEDDING_DIM),\n",
    "    unk_init=torch.Tensor.normal_\n",
    ")\n",
    "\n",
    "LABEL.build_vocab(train_data)\n",
    "\n",
    "BATCH_SIZE=32\n",
    "DEVICE=torch.device('cuda' if torch.cuda.is_available() else 'cpu')\n",
    "\n",
    "train_iterator,valid_iterator,test_iterator=data.BucketIterator.splits(\n",
    "    (train_data,valid_data,test_data),\n",
    "    batch_size=BATCH_SIZE,\n",
    "    device=DEVICE\n",
    ")\n",
    "\n"
   ]
  },
  {
   "cell_type": "code",
   "execution_count": 86,
   "metadata": {},
   "outputs": [],
   "source": [
    "\n",
    "# Model\n",
    "class ESIM(nn.Module):\n",
    "    def __init__(\n",
    "        self,\n",
    "        vocab_size, \n",
    "        embedding_dim, \n",
    "        hidden_dim, \n",
    "        output_dim, \n",
    "        bidFlag, \n",
    "        dropout\n",
    "    ):\n",
    "        super().__init__()\n",
    "        self.embedding=nn.Embedding(vocab_size,embedding_dim)\n",
    "        self.lstm=nn.LSTM(\n",
    "            embedding_dim,\n",
    "            hidden_dim,\n",
    "            num_layers=1,\n",
    "            dropout=dropout,\n",
    "            batch_first=True,\n",
    "            bidirectional=bidFlag\n",
    "        )\n",
    "        self.lstm_decode=nn.LSTM(\n",
    "            embedding_dim*8,\n",
    "            hidden_dim,\n",
    "            num_layers=1,\n",
    "            dropout=dropout,\n",
    "            batch_first=True,\n",
    "            bidirectional=bidFlag\n",
    "        )\n",
    "        self.act=nn.Tanh()\n",
    "        self.softmax=nn.Softmax(dim=1)\n",
    "        self.mlp=nn.Linear(embedding_dim*8, output_dim)\n",
    "\n",
    "    \n",
    "    def forward(self, prem, hypo):\n",
    "\n",
    "        #prem = [prem sent len, batch size]\n",
    "        #hypo = [hypo sent len, batch size]\n",
    "        prem_seq_len, batch_size = prem.shape\n",
    "        hypo_seq_len, _ = hypo.shape\n",
    "\n",
    "        #use batch first\n",
    "        #prem = [prem sent len, batch size]\n",
    "        #hypo = [hypo sent len, batch size]\n",
    "        prem=prem.permute(1,0)\n",
    "        hypo=hypo.permute(1,0)\n",
    "      \n",
    "        #embedded_prem = [batch size, prem sent len, embedding dim]\n",
    "        #embedded_hypo = [batch size, hypo sent len, embedding dim]\n",
    "        embedded_prem = self.embedding(prem)\n",
    "        embedded_hypo = self.embedding(hypo)\n",
    "        # print(embedded_prem.shape,embedded_hypo.shape)\n",
    "\n",
    "        #hidden_prem = [batch size,prem sent len,embedding dim*2]\n",
    "        #hidden_hypo = [batch size,hypo sent len,embedding dim*2]\n",
    "        hidden_prem, (_, _)=self.lstm(embedded_prem)\n",
    "        hidden_hypo, (_, _)=self.lstm(embedded_hypo)\n",
    "        # print(hidden_prem.shape,hidden_hypo.shape)\n",
    "\n",
    "\n",
    "        # e=[batch_size,prem sent len,hypo sent len ]\n",
    "        e = torch.bmm(hidden_prem, hidden_hypo.permute(0, 2, 1))\n",
    "        # print(e.shape)\n",
    "\n",
    "        # alignment_prem=[batch size,prem sent len,embedding dim*2]\n",
    "        # alignment_hypo=[batch size,prem sent len,embedding dim*2]\n",
    "        alignment_prem=torch.bmm(F.softmax(e, dim=-1), hidden_hypo)\n",
    "        alignment_hypo= torch.bmm(F.softmax(e.permute(0, 2, 1), dim=-1), hidden_prem)\n",
    "        # print(alignment_prem.shape,alignment_hypo.shape)\n",
    "\n",
    "        # enhance_prem=[batch size,prem sent len,embedding dim*8]\n",
    "        # enhance_hypo=[batch size,hypo sent len,embedding dim*8]\n",
    "        enhance_prem=torch.cat((\n",
    "            hidden_prem,\n",
    "            alignment_prem,\n",
    "            hidden_prem-alignment_prem,\n",
    "            torch.mul(hidden_prem,alignment_prem)\n",
    "        ),dim=2)\n",
    "\n",
    "        enhance_hypo=torch.cat((\n",
    "            hidden_hypo,\n",
    "            alignment_hypo,\n",
    "            hidden_hypo-alignment_hypo,\n",
    "            torch.mul(hidden_hypo,alignment_hypo)\n",
    "        ),dim=2)\n",
    "        # print(enhance_prem.shape,enhance_hypo.shape)\n",
    "\n",
    "\n",
    "\n",
    "        # compose_prem=[batch size,prem sent len,embedding dim*2]\n",
    "        # compose_hypo=[batch size,hypo sent len,embedding dim*2]\n",
    "        compose_prem,_ =self.lstm_decode(enhance_prem)\n",
    "        compose_hypo,_ =self.lstm_decode(enhance_hypo)\n",
    "        # print(compose_prem.shape,compose_hypo.shape)\n",
    "\n",
    "\n",
    "\n",
    "        # pool_avg_prem=[batch size,embedding dim*2]\n",
    "        # pool_max_prem=[batch size,embedding dim*2]\n",
    "        # pool_avg_hypo=[batch size,embedding dim*2]\n",
    "        # pool_max_hypo=[batch size,embedding dim*2]\n",
    "        pool_avg_prem = compose_prem.mean(dim=1)\n",
    "        pool_max_prem = compose_prem.max(dim=1).values\n",
    "        pool_avg_hypo = compose_hypo.mean(dim=1)\n",
    "        pool_max_hypo = compose_hypo.max(dim=1).values\n",
    "        # print(pool_avg_prem.shape,\n",
    "        #         pool_max_prem.shape,\n",
    "        #         pool_avg_hypo.shape,\n",
    "        #         pool_max_hypo.shape\n",
    "        # )\n",
    "\n",
    "        # pool=[batch size,embedding dim*8]\n",
    "        pool=torch.cat((\n",
    "                pool_avg_prem,\n",
    "                pool_max_prem,\n",
    "                pool_avg_hypo,\n",
    "                pool_max_hypo\n",
    "        ),dim=1)\n",
    "        # print(pool.shape)\n",
    "\n",
    "        # prediction=[batch size,embedding dim*8]\n",
    "        prediction=self.act(pool)\n",
    "        # print(prediction.shape)\n",
    "        \n",
    "        # prediction=[batch size,output dim]\n",
    "        prediction=self.mlp(prediction)\n",
    "        # print(prediction.shape)\n",
    "\n",
    "        #prediction=[batch size, output dim]\n",
    "        prediction =self.softmax(prediction)\n",
    "        # print(prediction.shape)\n",
    "\n",
    "        return prediction\n",
    "       \n",
    "        \n",
    "\n",
    "\n",
    "# Model Parameter\n",
    "INPUT_DIM = len(TEXT.vocab)\n",
    "EMBEDDING_DIM=300\n",
    "HIDDEN_DIM = 300\n",
    "N_LSTM_LAYERS = 2\n",
    "N_FC_LAYERS = 3\n",
    "OUTPUT_DIM = len(LABEL.vocab)\n",
    "DROPOUT = 0.5\n",
    "BID_FlAG=True\n",
    "PAD_IDX = TEXT.vocab.stoi[TEXT.pad_token]\n",
    "\n",
    "# Model init\n",
    "model=ESIM(\n",
    "    vocab_size=INPUT_DIM,\n",
    "    embedding_dim=EMBEDDING_DIM,\n",
    "    hidden_dim=HIDDEN_DIM,\n",
    "    bidFlag=BID_FlAG,\n",
    "    output_dim=OUTPUT_DIM,\n",
    "    dropout=DROPOUT,\n",
    "     ).to(DEVICE)\n",
    "\n",
    "# Embedding set\n",
    "pretrained_embeddings = TEXT.vocab.vectors\n",
    "model.embedding.weight.data.copy_(pretrained_embeddings)\n",
    "\n",
    "# dont no why use this ,set some vector to zero\n",
    "# model.embedding.weight.data[PAD_IDX] = torch.zeros(EMBEDDING_DIM)\n",
    "model.embedding.weight.requires_grad = True\n",
    "\n",
    "\n",
    "# Optimizer and LossFunction\n",
    "# use the paper best parameter\n",
    "optimizer = optim.Adam(model.parameters(),lr=4e-4,betas=(0.9, 0.999))\n",
    "criterion = nn.CrossEntropyLoss().to(DEVICE)\n",
    "\n",
    "# Evaluation function \n",
    "def categorical_accuracy(preds, y):\n",
    "    \"\"\"\n",
    "    Returns accuracy per batch, i.e. if you get 8/10 right, this returns 0.8, NOT 8\n",
    "    \"\"\"\n",
    "    max_preds = preds.argmax(dim = 1, keepdim = True) # get the index of the max probability\n",
    "    correct = max_preds.squeeze(1).eq(y)\n",
    "    correct=torch.tensor(correct.sum()).to(DEVICE)\n",
    "    all=torch.tensor(y.shape[0]).to(DEVICE)\n",
    "    return correct/ all\n",
    "\n",
    "# test\n",
    "\n",
    "# batch=next(iter(train_iterator))\n",
    "# prem = batch.premise\n",
    "# hypo = batch.hypothesis\n",
    "# labels = batch.label\n",
    "# predictions = model(prem, hypo)\n",
    "\n",
    "# loss = criterion(predictions, labels)\n",
    "                \n",
    "# acc = categorical_accuracy(predictions, labels)\n",
    "# loss.backward()"
   ]
  },
  {
   "cell_type": "code",
   "execution_count": 105,
   "metadata": {},
   "outputs": [
    {
     "name": "stdout",
     "output_type": "stream",
     "text": [
      "The model has 15,002,103 trainable parameters\n",
      "torch.Size([23551, 300])\n"
     ]
    }
   ],
   "source": [
    "# some parmeters of the model to view\n",
    "\n",
    "# total model trainable parameters\n",
    "def count_parameters(model):\n",
    "\n",
    "    return sum(p.numel() for p in model.parameters() if p.requires_grad)\n",
    "    \n",
    "print(f'The model has {count_parameters(model):,} trainable parameters')\n",
    "\n",
    "# text vocab vectors shape\n",
    "pretrained_embeddings = TEXT.vocab.vectors\n",
    "print(pretrained_embeddings.shape)\n"
   ]
  },
  {
   "cell_type": "code",
   "execution_count": 88,
   "metadata": {},
   "outputs": [],
   "source": [
    "def train(model, iterator, optimizer, criterion):\n",
    "    \n",
    "    epoch_loss = 0\n",
    "    epoch_acc = 0  \n",
    "    model.train() \n",
    "    for batch in tqdm(iterator):\n",
    "        \n",
    "        prem = batch.premise\n",
    "        hypo = batch.hypothesis\n",
    "        labels = batch.label\n",
    "       \n",
    "        optimizer.zero_grad()\n",
    "        \n",
    "        #prem = [prem sent len, batch size]\n",
    "        #hypo = [hypo sent len, batch size]\n",
    "        \n",
    "        predictions = model(prem, hypo)\n",
    "        \n",
    "\n",
    "        #predictions = [batch size, output dim]\n",
    "        #labels = [batch size]\n",
    "        \n",
    "        loss = criterion(predictions, labels)\n",
    "                \n",
    "        acc = categorical_accuracy(predictions, labels)\n",
    "        \n",
    "        loss.backward()\n",
    "        \n",
    "        optimizer.step()\n",
    "        \n",
    "        epoch_loss += loss.item()\n",
    "        epoch_acc += acc.item()\n",
    "        \n",
    "    return epoch_loss / len(iterator), epoch_acc / len(iterator)\n",
    "\n",
    "def evaluate(model, iterator, criterion):\n",
    "    \n",
    "    epoch_loss = 0\n",
    "    epoch_acc = 0\n",
    "    \n",
    "    model.eval()\n",
    "    \n",
    "    with torch.no_grad():\n",
    "    \n",
    "        for batch in tqdm(iterator):\n",
    "\n",
    "            prem = batch.premise\n",
    "            hypo = batch.hypothesis\n",
    "            labels = batch.label\n",
    "                        \n",
    "            predictions = model(prem, hypo)\n",
    "            \n",
    "            loss = criterion(predictions, labels)\n",
    "                \n",
    "            acc = categorical_accuracy(predictions, labels)\n",
    "            \n",
    "            epoch_loss += loss.item()\n",
    "            epoch_acc += acc.item()\n",
    "        \n",
    "    return epoch_loss / len(iterator), epoch_acc / len(iterator)\n",
    "\n",
    "def epoch_time(start_time, end_time):\n",
    "    elapsed_time = end_time - start_time\n",
    "    elapsed_mins = int(elapsed_time / 60)\n",
    "    elapsed_secs = int(elapsed_time - (elapsed_mins * 60))\n",
    "    return elapsed_mins, elapsed_secs\n",
    "\n"
   ]
  },
  {
   "cell_type": "code",
   "execution_count": 89,
   "metadata": {},
   "outputs": [
    {
     "name": "stderr",
     "output_type": "stream",
     "text": [
      "  0%|          | 0/17168 [00:00<?, ?it/s]C:\\Users\\zoro\\AppData\\Local\\Temp/ipykernel_23240/4147026850.py:180: UserWarning: To copy construct from a tensor, it is recommended to use sourceTensor.clone().detach() or sourceTensor.clone().detach().requires_grad_(True), rather than torch.tensor(sourceTensor).\n",
      "  correct=torch.tensor(correct.sum()).to(DEVICE)\n",
      "100%|██████████| 17168/17168 [11:48<00:00, 24.22it/s]\n",
      "100%|██████████| 308/308 [00:02<00:00, 130.09it/s]\n"
     ]
    },
    {
     "name": "stdout",
     "output_type": "stream",
     "text": [
      "Epoch: 01 | Epoch Time: 11m 51s\n",
      "\tTrain Loss: 0.773 | Train Acc: 77.11%\n",
      "\t Val. Loss: 0.721 |  Val. Acc: 82.61%\n"
     ]
    },
    {
     "name": "stderr",
     "output_type": "stream",
     "text": [
      "100%|██████████| 17168/17168 [11:54<00:00, 24.04it/s]\n",
      "100%|██████████| 308/308 [00:02<00:00, 130.57it/s]\n"
     ]
    },
    {
     "name": "stdout",
     "output_type": "stream",
     "text": [
      "Epoch: 02 | Epoch Time: 11m 56s\n",
      "\tTrain Loss: 0.712 | Train Acc: 83.52%\n",
      "\t Val. Loss: 0.704 |  Val. Acc: 84.39%\n"
     ]
    },
    {
     "name": "stderr",
     "output_type": "stream",
     "text": [
      "100%|██████████| 17168/17168 [11:57<00:00, 23.93it/s]\n",
      "100%|██████████| 308/308 [00:02<00:00, 133.08it/s]\n"
     ]
    },
    {
     "name": "stdout",
     "output_type": "stream",
     "text": [
      "Epoch: 03 | Epoch Time: 11m 59s\n",
      "\tTrain Loss: 0.689 | Train Acc: 85.96%\n",
      "\t Val. Loss: 0.697 |  Val. Acc: 85.12%\n"
     ]
    },
    {
     "name": "stderr",
     "output_type": "stream",
     "text": [
      "100%|██████████| 17168/17168 [11:59<00:00, 23.88it/s]\n",
      "100%|██████████| 308/308 [00:02<00:00, 121.56it/s]\n"
     ]
    },
    {
     "name": "stdout",
     "output_type": "stream",
     "text": [
      "Epoch: 04 | Epoch Time: 12m 1s\n",
      "\tTrain Loss: 0.673 | Train Acc: 87.57%\n",
      "\t Val. Loss: 0.695 |  Val. Acc: 85.36%\n"
     ]
    },
    {
     "name": "stderr",
     "output_type": "stream",
     "text": [
      "100%|██████████| 17168/17168 [12:47<00:00, 22.36it/s]\n",
      "100%|██████████| 308/308 [00:02<00:00, 123.66it/s]\n"
     ]
    },
    {
     "name": "stdout",
     "output_type": "stream",
     "text": [
      "Epoch: 05 | Epoch Time: 12m 50s\n",
      "\tTrain Loss: 0.661 | Train Acc: 88.86%\n",
      "\t Val. Loss: 0.695 |  Val. Acc: 85.37%\n"
     ]
    }
   ],
   "source": [
    "N_EPOCHS = 5\n",
    "\n",
    "best_valid_loss = float('inf')\n",
    "\n",
    "\n",
    "train_loss_list=[]\n",
    "valid_loss_list=[]\n",
    "train_acc_list=[]\n",
    "valid_acc_list=[]\n",
    "\n",
    "for epoch in range(N_EPOCHS):\n",
    "\n",
    "    start_time = time.time()\n",
    "    \n",
    "    train_loss, train_acc = train(model, train_iterator, optimizer, criterion)\n",
    "    valid_loss, valid_acc = evaluate(model, valid_iterator, criterion)\n",
    "    \n",
    "    end_time = time.time()\n",
    "\n",
    "    epoch_mins, epoch_secs = epoch_time(start_time, end_time)\n",
    "    \n",
    "    if valid_loss < best_valid_loss:\n",
    "        best_valid_loss = valid_loss\n",
    "        torch.save(model.state_dict(), 'tut1-model.pt')\n",
    "    \n",
    "    train_loss_list.append(train_loss)\n",
    "    valid_loss_list.append(valid_loss)\n",
    "    train_acc_list.append(train_acc)\n",
    "    valid_acc_list.append(valid_acc)\n",
    "    \n",
    "    print(f'Epoch: {epoch+1:02} | Epoch Time: {epoch_mins}m {epoch_secs}s')\n",
    "    print(f'\\tTrain Loss: {train_loss:.3f} | Train Acc: {train_acc*100:.2f}%')\n",
    "    print(f'\\t Val. Loss: {valid_loss:.3f} |  Val. Acc: {valid_acc*100:.2f}%')"
   ]
  },
  {
   "cell_type": "code",
   "execution_count": 90,
   "metadata": {},
   "outputs": [
    {
     "name": "stderr",
     "output_type": "stream",
     "text": [
      "  0%|          | 0/307 [00:00<?, ?it/s]C:\\Users\\zoro\\AppData\\Local\\Temp/ipykernel_23240/4147026850.py:180: UserWarning: To copy construct from a tensor, it is recommended to use sourceTensor.clone().detach() or sourceTensor.clone().detach().requires_grad_(True), rather than torch.tensor(sourceTensor).\n",
      "  correct=torch.tensor(correct.sum()).to(DEVICE)\n",
      "100%|██████████| 307/307 [00:02<00:00, 116.22it/s]"
     ]
    },
    {
     "name": "stdout",
     "output_type": "stream",
     "text": [
      "Test Loss: 0.697 |  Test Acc: 85.05%\n"
     ]
    },
    {
     "name": "stderr",
     "output_type": "stream",
     "text": [
      "\n"
     ]
    }
   ],
   "source": [
    "model.load_state_dict(torch.load('tut1-model.pt'))\n",
    "\n",
    "test_loss, test_acc = evaluate(model, test_iterator, criterion)\n",
    "\n",
    "print(f'Test Loss: {test_loss:.3f} |  Test Acc: {test_acc*100:.2f}%')"
   ]
  },
  {
   "cell_type": "code",
   "execution_count": 91,
   "metadata": {},
   "outputs": [
    {
     "name": "stdout",
     "output_type": "stream",
     "text": [
      "![](../pic/ESMI-loss-5.jpg)\n"
     ]
    },
    {
     "data": {
      "image/png": "[encoded data removed]",
      "text/plain": [
       "<Figure size 432x288 with 1 Axes>"
      ]
     },
     "metadata": {
      "needs_background": "light"
     },
     "output_type": "display_data"
    },
    {
     "name": "stdout",
     "output_type": "stream",
     "text": [
      "![](../pic/ESMI-acc-5.jpg)\n"
     ]
    },
    {
     "data": {
      "image/png": "[encoded data removed]",
      "text/plain": [
       "<Figure size 432x288 with 1 Axes>"
      ]
     },
     "metadata": {
      "needs_background": "light"
     },
     "output_type": "display_data"
    }
   ],
   "source": [
    "def drawpic(train_loss_list=[],test_loss_list=[],epoch_number=10,title='1',root_path='./'):\n",
    "    # make data\n",
    "    x = [i for i in range(epoch_number)]\n",
    "    # plot\n",
    "    fig, ax = plt.subplots()\n",
    "    plt.title(title)\n",
    "    ax.plot(x, train_loss_list, linewidth=2.0)\n",
    "    ax.plot(x, test_loss_list, linewidth=2.0)\n",
    "    path=root_path+title+'.jpg'\n",
    "    print('![]({})'.format(path))\n",
    "    plt.savefig(path)\n",
    "    plt.show()\n",
    "root_path='../pic/'\n",
    "title='ESMI-loss-{}'.format(str(N_EPOCHS))\n",
    "\n",
    "drawpic(train_loss_list=train_loss_list,test_loss_list=valid_loss_list,epoch_number=N_EPOCHS,title=title,root_path=root_path)\n",
    "\n",
    "title='ESMI-acc-{}'.format(str(N_EPOCHS))\n",
    "\n",
    "drawpic(train_loss_list=train_acc_list,test_loss_list=valid_acc_list,epoch_number=N_EPOCHS,title=title,root_path=root_path)"
   ]
  },
  {
   "cell_type": "code",
   "execution_count": 92,
   "metadata": {},
   "outputs": [],
   "source": [
    "def predict_inference(premise, hypothesis, text_field, label_field, model, device):\n",
    "    \n",
    "    model.eval()\n",
    "    \n",
    "    if isinstance(premise, str):\n",
    "        premise = text_field.tokenize(premise)\n",
    "    \n",
    "    if isinstance(hypothesis, str):\n",
    "        hypothesis = text_field.tokenize(hypothesis)\n",
    "    \n",
    "    if text_field.lower:\n",
    "        premise = [t.lower() for t in premise]\n",
    "        hypothesis = [t.lower() for t in hypothesis]\n",
    "        \n",
    "    premise = [text_field.vocab.stoi[t] for t in premise]\n",
    "    hypothesis = [text_field.vocab.stoi[t] for t in hypothesis]\n",
    "    \n",
    "    premise = torch.LongTensor(premise).unsqueeze(1).to(device)\n",
    "    hypothesis = torch.LongTensor(hypothesis).unsqueeze(1).to(device)\n",
    "    \n",
    "    prediction = model(premise, hypothesis)\n",
    "    \n",
    "    prediction = prediction.argmax(dim=-1).item()\n",
    "    \n",
    "    return label_field.vocab.itos[prediction]\n"
   ]
  },
  {
   "cell_type": "code",
   "execution_count": 93,
   "metadata": {},
   "outputs": [
    {
     "data": {
      "text/plain": [
       "'neutral'"
      ]
     },
     "execution_count": 93,
     "metadata": {},
     "output_type": "execute_result"
    }
   ],
   "source": [
    "premise = 'a man sitting on a green bench.'\n",
    "hypothesis = 'a woman sitting on a green bench.'\n",
    "predict_inference(premise, hypothesis, TEXT, LABEL, model, DEVICE)\n",
    "\n",
    "premise = 'a man sitting on a green bench.'\n",
    "hypothesis = 'a person on a park bench'\n",
    "predict_inference(premise, hypothesis, TEXT, LABEL, model, DEVICE)"
   ]
  }
 ],
 "metadata": {
  "interpreter": {
   "hash": "b69a98d3df882577ba469635c4ab08c5ae67eaedfd3a57f311f98966a6edb2d0"
  },
  "kernelspec": {
   "display_name": "Python 3.9.7 64-bit ('torch': conda)",
   "language": "python",
   "name": "python3"
  },
  "language_info": {
   "codemirror_mode": {
    "name": "ipython",
    "version": 3
   },
   "file_extension": ".py",
   "mimetype": "text/x-python",
   "name": "python",
   "nbconvert_exporter": "python",
   "pygments_lexer": "ipython3",
   "version": "3.9.7"
  },
  "orig_nbformat": 4
 },
 "nbformat": 4,
 "nbformat_minor": 2
}
