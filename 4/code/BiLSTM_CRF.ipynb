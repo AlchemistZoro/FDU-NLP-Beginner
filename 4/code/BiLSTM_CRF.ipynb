{
 "cells": [
  {
   "cell_type": "code",
   "execution_count": 1,
   "metadata": {},
   "outputs": [],
   "source": [
    "\n",
    "\n",
    "import pandas as pd\n",
    "import numpy as np\n",
    "import matplotlib.pyplot as plt\n",
    "\n",
    "from torchtext.legacy.data import Field, Dataset, Example,BucketIterator,Iterator\n",
    "from torchtext.vocab import Vectors\n",
    "\n",
    "from sklearn.metrics import f1_score,precision_score,recall_score\n",
    "\n",
    "import torch\n",
    "import torch.autograd as autograd\n",
    "import torch.nn as nn\n",
    "import torch.optim as optim\n",
    "\n",
    "import unicodedata\n",
    "import re\n",
    "import codecs\n",
    "from torch.nn.utils.rnn import pack_padded_sequence, pad_packed_sequence\n",
    "from torchcrf import CRF\n",
    "\n",
    "from tqdm import tqdm\n",
    "\n",
    "import time\n",
    "\n",
    "from torchtext.legacy.datasets import SequenceTaggingDataset\n",
    "# from BiLSTM_CRF import BiLSTM_CRF"
   ]
  },
  {
   "cell_type": "code",
   "execution_count": 2,
   "metadata": {},
   "outputs": [
    {
     "data": {
      "text/plain": [
       "<torch._C.Generator at 0x268f49449f0>"
      ]
     },
     "execution_count": 2,
     "metadata": {},
     "output_type": "execute_result"
    }
   ],
   "source": [
    "\n",
    "DEVICE=torch.device('cuda' if torch.cuda.is_available() else 'cpu')\n",
    "SEED=2022\n",
    "torch.manual_seed(SEED)"
   ]
  },
  {
   "cell_type": "code",
   "execution_count": 3,
   "metadata": {},
   "outputs": [],
   "source": [
    "# label 如下所示\n",
    "# label_dict={\n",
    "#     'O':0,\n",
    "#     'B-ORG':1,\n",
    "#     'I-ORG':2,\n",
    "#     'B-MISC':3,\n",
    "#     'I-MISC':4,\n",
    "#     'B-PER':5,\n",
    "#     'I-PER':6,\n",
    "#     'B-LOC':7,\n",
    "#     'I-LOC':8,\n",
    "# }\n",
    "\n",
    "def zero_digits(s):\n",
    "    \"\"\"\n",
    "    Replace every digit in a string by a zero.\n",
    "    \"\"\"\n",
    "    return re.sub('\\d', '0', s)\n",
    "\n",
    "def load_sentences(path, lower, zeros):\n",
    "    \"\"\"\n",
    "    Load sentences. A line must contain at least a word and its tag.\n",
    "    Sentences are separated by empty lines.\n",
    "    \"\"\"\n",
    "    text=[]\n",
    "    label=[]\n",
    "    text_list=[]\n",
    "    label_list=[]\n",
    "    for line in codecs.open(path, 'r', 'utf-8'):\n",
    "        line = zero_digits(line.rstrip()) if zeros else line.rstrip()\n",
    "        if not line:\n",
    "            text_list.append(text)\n",
    "            label_list.append(label)\n",
    "            label=[]\n",
    "            text=[]\n",
    "        else:\n",
    "            sample=line.split()\n",
    "            word=sample[0]\n",
    "            nertag=sample[-1]\n",
    "            text.append(word)\n",
    "            label.append(nertag)\n",
    "    df_data=pd.DataFrame()\n",
    "    df_data['text']=text_list\n",
    "    df_data['label']=label_list\n",
    "\n",
    "    return df_data\n",
    "\n",
    "def laod_dataset(df,textfield,labelfield):\n",
    "\n",
    "    examples=[]\n",
    "    fields = [('text', textfield), ('label', labelfield)]\n",
    "    for index,row in df.iterrows():\n",
    "        examples.append(Example.fromlist([row['text'], row['label']], fields))\n",
    "    \n",
    "    dataset = Dataset(examples, fields)\n",
    "\n",
    "    return dataset\n",
    "\n",
    "root_path='../data/'\n",
    "train_path=root_path+'eng.train'\n",
    "valid_path=root_path+'eng.testa'\n",
    "test_path=root_path+'eng.testb'\n",
    "\n",
    "train_df=load_sentences(train_path,lower=True,zeros=True)\n",
    "valid_df=load_sentences(valid_path,lower=True,zeros=True)\n",
    "test_df=load_sentences(test_path,lower=True,zeros=True)\n",
    "\n",
    "# inlcude_length:return (length,text),use for the mask of CRF and LSTM\n",
    "TEXT=Field(sequential=True,use_vocab=True,include_lengths=True)\n",
    "LABEL = Field(sequential=True,use_vocab=True,include_lengths=True)\n",
    "\n",
    "\n",
    "\n",
    "train_data=laod_dataset(train_df,textfield=TEXT,labelfield=LABEL)\n",
    "valid_data=laod_dataset(valid_df,textfield=TEXT,labelfield=LABEL)\n",
    "test_data=laod_dataset(test_df,textfield=TEXT,labelfield=LABEL)\n",
    "\n",
    "EMBEDDING_DIM=100\n",
    "BATCH_SIZE=128\n",
    "MIN_FREQ=2\n",
    "\n",
    "TEXT.build_vocab(\n",
    "    train_data,\n",
    "    min_freq=MIN_FREQ,\n",
    "    vectors=\"glove.6B.{}d\".format(EMBEDDING_DIM),\n",
    "    unk_init=torch.Tensor.normal_\n",
    ")\n",
    "LABEL.build_vocab(train_data)\n",
    "\n",
    "train_iterator=BucketIterator(\n",
    "    train_data,\n",
    "    batch_size=BATCH_SIZE,\n",
    "    device=DEVICE,\n",
    "    sort_key=lambda x: len(x.TEXT)\n",
    ")\n",
    "\n",
    "test_iterator=BucketIterator(\n",
    "    test_data,\n",
    "    batch_size=BATCH_SIZE,\n",
    "    device=DEVICE,\n",
    "    sort_key=lambda x: len(x.TEXT)\n",
    ")\n",
    "\n",
    "valid_iterator=BucketIterator(\n",
    "    valid_data,\n",
    "    batch_size=BATCH_SIZE,\n",
    "    device=DEVICE,\n",
    "    sort_key=lambda x: len(x.TEXT)\n",
    ")\n",
    "\n",
    "\n",
    "\n"
   ]
  },
  {
   "cell_type": "code",
   "execution_count": 4,
   "metadata": {},
   "outputs": [],
   "source": [
    "class BiLSTM_CRF(nn.Module):\n",
    "    #定义模型中使用的所有层\n",
    "    def __init__(self, vocab_size, embedding_dim=100, hidden_dim=120, num_tags=10):\n",
    "        #构造函数\n",
    "        super().__init__()\n",
    "        #embeddding层\n",
    "        self.embedding = nn.Embedding(vocab_size, embedding_dim)\n",
    "        #lstm层\n",
    "        self.lstm = nn.LSTM(embedding_dim, \n",
    "                           hidden_dim,\n",
    "                           num_layers=1,\n",
    "                           bidirectional=True, \n",
    "\n",
    "                           batch_first=True)\n",
    "        self.crf=CRF(num_tags,batch_first=True)\n",
    "        self.fc = nn.Linear(hidden_dim*2, num_tags)\n",
    "\n",
    "    def _get_lstm_features(self, text,text_lengths):\n",
    "        embedded=self.embedding(text) #添加了padding的embedding结果\n",
    "\n",
    "        packed_embedded=pack_padded_sequence(embedded,text_lengths,batch_first=True,enforce_sorted=False)\n",
    "        packed_output,_=self.lstm(packed_embedded) #没有padding的输出\n",
    "        output,output_lengths=pad_packed_sequence(packed_output, batch_first=True) #返回输出，和没有padding的\n",
    "\n",
    "        output=self.fc(output)\n",
    "        return output,output_lengths\n",
    "\n",
    "    def neg_log_likelihood(self,text,tags,text_lengths,mask):\n",
    "              \n",
    "        out,_=self._get_lstm_features(text,text_lengths)\n",
    "        loss=self.crf(out,tags,mask=mask)\n",
    "        return -loss\n",
    "\n",
    "    def forward(self, text,text_lengths):\n",
    "        out,_=self._get_lstm_features(text,text_lengths)\n",
    "        predict=self.crf.decode(out)\n",
    "        return predict\n",
    "\n",
    "INPUT_DIM = len(TEXT.vocab)\n",
    "model = BiLSTM_CRF(INPUT_DIM).to(DEVICE)\n",
    "optimizer = optim.SGD(model.parameters(), lr=0.01, weight_decay=1e-4)\n",
    "\n",
    "pretrained_embeddings = TEXT.vocab.vectors\n",
    "model.embedding.weight.data.copy_(pretrained_embeddings)\n",
    "model.embedding.weight.requires_grad = True\n",
    "\n",
    "\n",
    "\n"
   ]
  },
  {
   "cell_type": "code",
   "execution_count": 5,
   "metadata": {},
   "outputs": [],
   "source": [
    "\n",
    "def _metrics(predict,tags,text_lengths):\n",
    "    f1_list=[]\n",
    "    precision_list=[]\n",
    "    recall_list=[]\n",
    "\n",
    "    for i in range(len(text_lengths)):\n",
    "        y_true=tags[i,0:text_lengths[i]].cpu()\n",
    "        y_pre=predict[i][0:text_lengths[i]]\n",
    "        recall_list.append(recall_score(y_true,y_pre,average='macro',zero_division=0))\n",
    "        precision_list.append(precision_score(y_true,y_pre,average='macro',zero_division=0))\n",
    "        f1_list.append(f1_score(y_true,y_pre,average='macro',zero_division=0))\n",
    "    f1=np.mean(f1_list)\n",
    "    precision=np.mean(precision_list)\n",
    "    recall= np.mean(recall_list)\n",
    "\n",
    "    return f1,precision,recall\n",
    "\n"
   ]
  },
  {
   "cell_type": "code",
   "execution_count": 6,
   "metadata": {},
   "outputs": [],
   "source": [
    "def train(model, iterator, optimizer):\n",
    "    \n",
    "    epoch_loss = 0\n",
    "\n",
    "    model.train() \n",
    "    epoch_f1=0\n",
    "    epoch_recall=0\n",
    "    epoch_precision=0\n",
    "    for batch in tqdm(iterator):\n",
    "\n",
    "        optimizer.zero_grad()\n",
    "        text=batch.text[0]\n",
    "        text=text.permute(1,0)\n",
    "        text_lengths=batch.text[1].cpu()\n",
    "\n",
    "        tags=batch.label[0]\n",
    "        tags=tags.permute(1,0)\n",
    "        mask=torch.zeros(tags.shape,dtype=torch.uint8)\n",
    "        for i in range(len(text_lengths)):\n",
    "            try:\n",
    "                pad_len=text_lengths[i]\n",
    "                mask[i,0:pad_len]=1\n",
    "            except:\n",
    "                print(i,len(text_lengths))\n",
    "        mask=mask.to(DEVICE)\n",
    "\n",
    "        loss=model.neg_log_likelihood(text,tags,text_lengths,mask)\n",
    "\n",
    "        predict=model(text,text_lengths)\n",
    "\n",
    "        loss.backward()\n",
    "        \n",
    "        f1,precision,recall=_metrics(predict,tags,text_lengths)\n",
    "        \n",
    "        optimizer.step()\n",
    "    \n",
    "        epoch_f1+=f1\n",
    "        epoch_precision+=precision\n",
    "        epoch_recall+=recall     \n",
    "        epoch_loss += loss.item()\n",
    "\n",
    "    epoch_f1/=len(iterator)\n",
    "    epoch_recall/=len(iterator)\n",
    "    epoch_precision/=len(iterator)\n",
    "    epoch_loss/=len(iterator)\n",
    "        \n",
    "    return epoch_loss ,epoch_f1,epoch_precision,epoch_recall\n",
    "\n",
    "def evaluate(model, iterator):\n",
    "    \n",
    "    epoch_loss = 0\n",
    "    epoch_f1=0\n",
    "    epoch_recall=0\n",
    "    epoch_precision=0\n",
    "\n",
    "    model.eval() \n",
    "    \n",
    "    with torch.no_grad():\n",
    "    \n",
    "        for batch in tqdm(iterator):\n",
    "\n",
    "            optimizer.zero_grad()\n",
    "            text=batch.text[0]\n",
    "            text=text.permute(1,0)\n",
    "            text_lengths=batch.text[1].cpu()\n",
    "            tags=batch.label[0]\n",
    "            tags=tags.permute(1,0)\n",
    "            mask=torch.zeros(tags.shape,dtype=torch.uint8)\n",
    "            for i in range(len(text_lengths)):\n",
    "                try:\n",
    "                    pad_len=text_lengths[i]\n",
    "                    mask[i,0:pad_len]=1\n",
    "                except:\n",
    "                    print(i,len(text))\n",
    "            mask=mask.to(DEVICE)\n",
    "            loss=model.neg_log_likelihood(text,tags,text_lengths,mask)\n",
    "            epoch_loss += loss.item()\n",
    "            predict=model(text,text_lengths)\n",
    "            \n",
    "            f1,precision,recall=_metrics(predict,tags,text_lengths)\n",
    "            \n",
    "            optimizer.step()\n",
    "        \n",
    "            epoch_f1+=f1\n",
    "            epoch_precision+=precision\n",
    "            epoch_recall+=recall     \n",
    "\n",
    "    epoch_f1/=len(iterator)\n",
    "    epoch_recall/=len(iterator)\n",
    "    epoch_precision/=len(iterator)\n",
    "    epoch_loss/=len(iterator)\n",
    "        \n",
    "    return epoch_loss,epoch_f1,epoch_precision,epoch_recall\n",
    "\n",
    "def epoch_time(start_time, end_time):\n",
    "    elapsed_time = end_time - start_time\n",
    "    elapsed_mins = int(elapsed_time / 60)\n",
    "    elapsed_secs = int(elapsed_time - (elapsed_mins * 60))\n",
    "    return elapsed_mins, elapsed_secs"
   ]
  },
  {
   "cell_type": "code",
   "execution_count": 7,
   "metadata": {},
   "outputs": [
    {
     "name": "stderr",
     "output_type": "stream",
     "text": [
      "  0%|          | 0/118 [00:00<?, ?it/s]C:\\ProgramData\\Anaconda3\\envs\\torch\\lib\\site-packages\\torchcrf\\__init__.py:249: UserWarning: where received a uint8 condition tensor. This behavior is deprecated and will be removed in a future version of PyTorch. Use a boolean condition instead. (Triggered internally at  ..\\aten\\src\\ATen\\native\\TensorCompare.cpp:255.)\n",
      "  score = torch.where(mask[i].unsqueeze(1), next_score, score)\n",
      "100%|██████████| 118/118 [01:03<00:00,  1.85it/s]\n",
      "100%|██████████| 28/28 [00:14<00:00,  1.90it/s]\n"
     ]
    },
    {
     "name": "stdout",
     "output_type": "stream",
     "text": [
      "Epoch: 01 | Epoch Time: 1m 18s\n",
      "\tTrain Loss: 5799.635 | Train F1: 65.94% | Train Precision: 67.26% | Train Recall: 66.74% |\n",
      "\t Val. Loss: 880.835 |  Val. F1: 75.93% | Val Precision: 77.29% | Val Recall: 76.64% |\n"
     ]
    },
    {
     "name": "stderr",
     "output_type": "stream",
     "text": [
      "100%|██████████| 118/118 [01:03<00:00,  1.86it/s]\n",
      "100%|██████████| 28/28 [00:14<00:00,  1.89it/s]\n"
     ]
    },
    {
     "name": "stdout",
     "output_type": "stream",
     "text": [
      "Epoch: 02 | Epoch Time: 1m 18s\n",
      "\tTrain Loss: 754.719 | Train F1: 82.33% | Train Precision: 83.56% | Train Recall: 82.76% |\n",
      "\t Val. Loss: 528.503 |  Val. F1: 80.87% | Val Precision: 81.87% | Val Recall: 81.48% |\n"
     ]
    },
    {
     "name": "stderr",
     "output_type": "stream",
     "text": [
      "100%|██████████| 118/118 [01:03<00:00,  1.87it/s]\n",
      "100%|██████████| 28/28 [00:14<00:00,  1.88it/s]\n"
     ]
    },
    {
     "name": "stdout",
     "output_type": "stream",
     "text": [
      "Epoch: 03 | Epoch Time: 1m 18s\n",
      "\tTrain Loss: 230.303 | Train F1: 90.20% | Train Precision: 90.84% | Train Recall: 90.54% |\n",
      "\t Val. Loss: 480.436 |  Val. F1: 83.92% | Val Precision: 84.80% | Val Recall: 84.45% |\n"
     ]
    },
    {
     "name": "stderr",
     "output_type": "stream",
     "text": [
      "100%|██████████| 118/118 [01:03<00:00,  1.87it/s]\n",
      "100%|██████████| 28/28 [00:14<00:00,  1.90it/s]\n"
     ]
    },
    {
     "name": "stdout",
     "output_type": "stream",
     "text": [
      "Epoch: 04 | Epoch Time: 1m 17s\n",
      "\tTrain Loss: 147.948 | Train F1: 92.86% | Train Precision: 93.34% | Train Recall: 93.15% |\n",
      "\t Val. Loss: 401.246 |  Val. F1: 85.14% | Val Precision: 85.82% | Val Recall: 85.71% |\n"
     ]
    },
    {
     "name": "stderr",
     "output_type": "stream",
     "text": [
      "100%|██████████| 118/118 [01:02<00:00,  1.88it/s]\n",
      "100%|██████████| 28/28 [00:14<00:00,  1.90it/s]\n"
     ]
    },
    {
     "name": "stdout",
     "output_type": "stream",
     "text": [
      "Epoch: 05 | Epoch Time: 1m 17s\n",
      "\tTrain Loss: 118.900 | Train F1: 94.23% | Train Precision: 94.60% | Train Recall: 94.51% |\n",
      "\t Val. Loss: 409.979 |  Val. F1: 84.86% | Val Precision: 85.48% | Val Recall: 85.63% |\n"
     ]
    },
    {
     "name": "stderr",
     "output_type": "stream",
     "text": [
      "100%|██████████| 118/118 [01:02<00:00,  1.88it/s]\n",
      "100%|██████████| 28/28 [00:14<00:00,  1.89it/s]\n"
     ]
    },
    {
     "name": "stdout",
     "output_type": "stream",
     "text": [
      "Epoch: 06 | Epoch Time: 1m 17s\n",
      "\tTrain Loss: 101.016 | Train F1: 94.83% | Train Precision: 95.17% | Train Recall: 95.09% |\n",
      "\t Val. Loss: 392.830 |  Val. F1: 85.28% | Val Precision: 85.97% | Val Recall: 85.91% |\n"
     ]
    },
    {
     "name": "stderr",
     "output_type": "stream",
     "text": [
      "100%|██████████| 118/118 [01:03<00:00,  1.86it/s]\n",
      "100%|██████████| 28/28 [00:14<00:00,  1.90it/s]\n"
     ]
    },
    {
     "name": "stdout",
     "output_type": "stream",
     "text": [
      "Epoch: 07 | Epoch Time: 1m 18s\n",
      "\tTrain Loss: 93.250 | Train F1: 95.29% | Train Precision: 95.62% | Train Recall: 95.52% |\n",
      "\t Val. Loss: 403.610 |  Val. F1: 85.66% | Val Precision: 86.34% | Val Recall: 86.27% |\n"
     ]
    },
    {
     "name": "stderr",
     "output_type": "stream",
     "text": [
      "100%|██████████| 118/118 [01:02<00:00,  1.89it/s]\n",
      "100%|██████████| 28/28 [00:14<00:00,  1.92it/s]\n"
     ]
    },
    {
     "name": "stdout",
     "output_type": "stream",
     "text": [
      "Epoch: 08 | Epoch Time: 1m 17s\n",
      "\tTrain Loss: 85.647 | Train F1: 95.41% | Train Precision: 95.72% | Train Recall: 95.65% |\n",
      "\t Val. Loss: 414.739 |  Val. F1: 85.98% | Val Precision: 86.73% | Val Recall: 86.48% |\n"
     ]
    },
    {
     "name": "stderr",
     "output_type": "stream",
     "text": [
      "100%|██████████| 118/118 [01:02<00:00,  1.90it/s]\n",
      "100%|██████████| 28/28 [00:14<00:00,  1.93it/s]\n"
     ]
    },
    {
     "name": "stdout",
     "output_type": "stream",
     "text": [
      "Epoch: 09 | Epoch Time: 1m 16s\n",
      "\tTrain Loss: 80.422 | Train F1: 95.64% | Train Precision: 95.94% | Train Recall: 95.87% |\n",
      "\t Val. Loss: 389.016 |  Val. F1: 86.16% | Val Precision: 86.92% | Val Recall: 86.62% |\n"
     ]
    },
    {
     "name": "stderr",
     "output_type": "stream",
     "text": [
      "100%|██████████| 118/118 [01:02<00:00,  1.90it/s]\n",
      "100%|██████████| 28/28 [00:14<00:00,  1.90it/s]\n"
     ]
    },
    {
     "name": "stdout",
     "output_type": "stream",
     "text": [
      "Epoch: 10 | Epoch Time: 1m 16s\n",
      "\tTrain Loss: 78.046 | Train F1: 95.78% | Train Precision: 96.05% | Train Recall: 96.02% |\n",
      "\t Val. Loss: 391.719 |  Val. F1: 86.06% | Val Precision: 86.78% | Val Recall: 86.63% |\n"
     ]
    },
    {
     "name": "stderr",
     "output_type": "stream",
     "text": [
      "100%|██████████| 118/118 [01:02<00:00,  1.89it/s]\n",
      "100%|██████████| 28/28 [00:14<00:00,  1.92it/s]\n"
     ]
    },
    {
     "name": "stdout",
     "output_type": "stream",
     "text": [
      "Epoch: 11 | Epoch Time: 1m 16s\n",
      "\tTrain Loss: 74.868 | Train F1: 95.94% | Train Precision: 96.19% | Train Recall: 96.19% |\n",
      "\t Val. Loss: 420.893 |  Val. F1: 86.05% | Val Precision: 86.77% | Val Recall: 86.49% |\n"
     ]
    },
    {
     "name": "stderr",
     "output_type": "stream",
     "text": [
      "100%|██████████| 118/118 [01:02<00:00,  1.90it/s]\n",
      "100%|██████████| 28/28 [00:14<00:00,  1.95it/s]\n"
     ]
    },
    {
     "name": "stdout",
     "output_type": "stream",
     "text": [
      "Epoch: 12 | Epoch Time: 1m 16s\n",
      "\tTrain Loss: 72.597 | Train F1: 96.00% | Train Precision: 96.26% | Train Recall: 96.24% |\n",
      "\t Val. Loss: 392.110 |  Val. F1: 86.06% | Val Precision: 86.68% | Val Recall: 86.70% |\n"
     ]
    },
    {
     "name": "stderr",
     "output_type": "stream",
     "text": [
      "100%|██████████| 118/118 [01:02<00:00,  1.90it/s]\n",
      "100%|██████████| 28/28 [00:14<00:00,  1.91it/s]\n"
     ]
    },
    {
     "name": "stdout",
     "output_type": "stream",
     "text": [
      "Epoch: 13 | Epoch Time: 1m 16s\n",
      "\tTrain Loss: 71.026 | Train F1: 96.13% | Train Precision: 96.38% | Train Recall: 96.36% |\n",
      "\t Val. Loss: 414.120 |  Val. F1: 86.11% | Val Precision: 86.92% | Val Recall: 86.53% |\n"
     ]
    },
    {
     "name": "stderr",
     "output_type": "stream",
     "text": [
      "100%|██████████| 118/118 [01:01<00:00,  1.91it/s]\n",
      "100%|██████████| 28/28 [00:14<00:00,  1.94it/s]\n"
     ]
    },
    {
     "name": "stdout",
     "output_type": "stream",
     "text": [
      "Epoch: 14 | Epoch Time: 1m 16s\n",
      "\tTrain Loss: 70.904 | Train F1: 96.08% | Train Precision: 96.35% | Train Recall: 96.30% |\n",
      "\t Val. Loss: 391.371 |  Val. F1: 86.17% | Val Precision: 86.94% | Val Recall: 86.63% |\n"
     ]
    },
    {
     "name": "stderr",
     "output_type": "stream",
     "text": [
      "100%|██████████| 118/118 [01:01<00:00,  1.90it/s]\n",
      "100%|██████████| 28/28 [00:14<00:00,  1.95it/s]\n"
     ]
    },
    {
     "name": "stdout",
     "output_type": "stream",
     "text": [
      "Epoch: 15 | Epoch Time: 1m 16s\n",
      "\tTrain Loss: 68.528 | Train F1: 96.16% | Train Precision: 96.39% | Train Recall: 96.40% |\n",
      "\t Val. Loss: 383.517 |  Val. F1: 85.95% | Val Precision: 86.55% | Val Recall: 86.59% |\n"
     ]
    },
    {
     "name": "stderr",
     "output_type": "stream",
     "text": [
      "100%|██████████| 118/118 [01:02<00:00,  1.89it/s]\n",
      "100%|██████████| 28/28 [00:14<00:00,  1.93it/s]\n"
     ]
    },
    {
     "name": "stdout",
     "output_type": "stream",
     "text": [
      "Epoch: 16 | Epoch Time: 1m 16s\n",
      "\tTrain Loss: 67.656 | Train F1: 96.17% | Train Precision: 96.41% | Train Recall: 96.40% |\n",
      "\t Val. Loss: 391.921 |  Val. F1: 85.68% | Val Precision: 86.37% | Val Recall: 86.25% |\n"
     ]
    },
    {
     "name": "stderr",
     "output_type": "stream",
     "text": [
      "100%|██████████| 118/118 [01:01<00:00,  1.91it/s]\n",
      "100%|██████████| 28/28 [00:14<00:00,  1.95it/s]\n"
     ]
    },
    {
     "name": "stdout",
     "output_type": "stream",
     "text": [
      "Epoch: 17 | Epoch Time: 1m 16s\n",
      "\tTrain Loss: 66.517 | Train F1: 96.33% | Train Precision: 96.57% | Train Recall: 96.54% |\n",
      "\t Val. Loss: 382.063 |  Val. F1: 85.98% | Val Precision: 86.58% | Val Recall: 86.58% |\n"
     ]
    },
    {
     "name": "stderr",
     "output_type": "stream",
     "text": [
      "100%|██████████| 118/118 [01:01<00:00,  1.91it/s]\n",
      "100%|██████████| 28/28 [00:14<00:00,  1.91it/s]\n"
     ]
    },
    {
     "name": "stdout",
     "output_type": "stream",
     "text": [
      "Epoch: 18 | Epoch Time: 1m 16s\n",
      "\tTrain Loss: 65.194 | Train F1: 96.43% | Train Precision: 96.66% | Train Recall: 96.65% |\n",
      "\t Val. Loss: 388.119 |  Val. F1: 86.48% | Val Precision: 87.16% | Val Recall: 86.98% |\n"
     ]
    },
    {
     "name": "stderr",
     "output_type": "stream",
     "text": [
      "100%|██████████| 118/118 [01:02<00:00,  1.90it/s]\n",
      "100%|██████████| 28/28 [00:14<00:00,  1.94it/s]\n"
     ]
    },
    {
     "name": "stdout",
     "output_type": "stream",
     "text": [
      "Epoch: 19 | Epoch Time: 1m 16s\n",
      "\tTrain Loss: 69.250 | Train F1: 96.28% | Train Precision: 96.51% | Train Recall: 96.49% |\n",
      "\t Val. Loss: 386.934 |  Val. F1: 86.51% | Val Precision: 87.06% | Val Recall: 87.12% |\n"
     ]
    },
    {
     "name": "stderr",
     "output_type": "stream",
     "text": [
      "100%|██████████| 118/118 [01:02<00:00,  1.89it/s]\n",
      "100%|██████████| 28/28 [00:14<00:00,  1.95it/s]"
     ]
    },
    {
     "name": "stdout",
     "output_type": "stream",
     "text": [
      "Epoch: 20 | Epoch Time: 1m 16s\n",
      "\tTrain Loss: 65.838 | Train F1: 96.33% | Train Precision: 96.58% | Train Recall: 96.53% |\n",
      "\t Val. Loss: 392.938 |  Val. F1: 86.66% | Val Precision: 87.29% | Val Recall: 87.20% |\n"
     ]
    },
    {
     "name": "stderr",
     "output_type": "stream",
     "text": [
      "\n"
     ]
    }
   ],
   "source": [
    "N_EPOCHS = 20\n",
    "\n",
    "best_valid_f1 = float('inf')\n",
    "\n",
    "\n",
    "train_loss_list=[]\n",
    "train_f1_list=[]\n",
    "train_precision_list=[]\n",
    "train_recall_list=[]\n",
    "\n",
    "valid_loss_list=[]\n",
    "valid_f1_list=[]\n",
    "valid_precision_list=[]\n",
    "valid_recall_list=[]\n",
    "\n",
    "\n",
    "\n",
    "for epoch in range(N_EPOCHS):\n",
    "\n",
    "    start_time = time.time()\n",
    "    \n",
    "    train_loss,train_f1,train_precision,train_recall = train(model, train_iterator, optimizer)\n",
    "    valid_loss,valid_f1,valid_precision,valid_recall = evaluate(model, valid_iterator)\n",
    "    \n",
    "    end_time = time.time()\n",
    "\n",
    "    epoch_mins, epoch_secs = epoch_time(start_time, end_time)\n",
    "    \n",
    "    if best_valid_f1 < valid_f1:\n",
    "        best_valid_f1 = valid_f1\n",
    "        torch.save(model.state_dict(), 'tut1-model.pt')\n",
    "    \n",
    "    train_loss_list.append(train_loss)\n",
    "    valid_loss_list.append(valid_loss)\n",
    "\n",
    "    train_f1_list.append(train_f1)\n",
    "    train_precision_list.append(train_precision)\n",
    "    train_recall_list.append(train_recall)\n",
    "\n",
    "    valid_f1_list.append(valid_f1)\n",
    "    valid_precision_list.append(valid_precision)\n",
    "    valid_recall_list.append(valid_recall)\n",
    "\n",
    "\n",
    "\n",
    "    \n",
    "    print(f'Epoch: {epoch+1:02} | Epoch Time: {epoch_mins}m {epoch_secs}s')\n",
    "    print(f'\\tTrain Loss: {train_loss:.3f} | Train F1: {train_f1*100:.2f}% | Train Precision: {train_precision*100:.2f}% | Train Recall: {train_recall*100:.2f}% |')\n",
    "    print(f'\\t Val. Loss: {valid_loss:.3f} |  Val. F1: {valid_f1*100:.2f}% | Val Precision: {valid_precision*100:.2f}% | Val Recall: {valid_recall*100:.2f}% |')\n"
   ]
  },
  {
   "cell_type": "code",
   "execution_count": 8,
   "metadata": {},
   "outputs": [
    {
     "name": "stdout",
     "output_type": "stream",
     "text": [
      "![](../pic/BiLSTM_CRF-loss-20.jpg)\n"
     ]
    },
    {
     "data": {
      "image/png": "[encoded data removed]",
      "text/plain": [
       "<Figure size 432x288 with 1 Axes>"
      ]
     },
     "metadata": {
      "needs_background": "light"
     },
     "output_type": "display_data"
    },
    {
     "name": "stdout",
     "output_type": "stream",
     "text": [
      "![](../pic/BiLSTM_CRF-F1-20.jpg)\n"
     ]
    },
    {
     "data": {
      "image/png": "[encoded data removed]",
      "text/plain": [
       "<Figure size 432x288 with 1 Axes>"
      ]
     },
     "metadata": {
      "needs_background": "light"
     },
     "output_type": "display_data"
    },
    {
     "name": "stdout",
     "output_type": "stream",
     "text": [
      "![](../pic/BiLSTM_CRF-precision-20.jpg)\n"
     ]
    },
    {
     "data": {
      "image/png": "[encoded data removed]",
      "text/plain": [
       "<Figure size 432x288 with 1 Axes>"
      ]
     },
     "metadata": {
      "needs_background": "light"
     },
     "output_type": "display_data"
    },
    {
     "name": "stdout",
     "output_type": "stream",
     "text": [
      "![](../pic/BiLSTM_CRF-recall-20.jpg)\n"
     ]
    },
    {
     "data": {
      "image/png": "[encoded data removed]",
      "text/plain": [
       "<Figure size 432x288 with 1 Axes>"
      ]
     },
     "metadata": {
      "needs_background": "light"
     },
     "output_type": "display_data"
    }
   ],
   "source": [
    "def drawpic(train_loss_list=[],test_loss_list=[],epoch_number=10,title='1',root_path='./'):\n",
    "    # make data\n",
    "    x = [i for i in range(epoch_number)]\n",
    "    # plot\n",
    "    fig, ax = plt.subplots()\n",
    "    plt.title(title)\n",
    "    ax.plot(x, train_loss_list, linewidth=2.0)\n",
    "    ax.plot(x, test_loss_list, linewidth=2.0)\n",
    "    path=root_path+title+'.jpg'\n",
    "    print('![]({})'.format(path))\n",
    "    plt.savefig(path)\n",
    "    plt.show()\n",
    "root_path='../pic/'\n",
    "title='BiLSTM_CRF-loss-{}'.format(str(N_EPOCHS))\n",
    "\n",
    "drawpic(train_loss_list=train_loss_list,test_loss_list=valid_loss_list,epoch_number=N_EPOCHS,title=title,root_path=root_path)\n",
    "\n",
    "title='BiLSTM_CRF-F1-{}'.format(str(N_EPOCHS))\n",
    "\n",
    "drawpic(train_loss_list=train_f1_list,test_loss_list=valid_f1_list,epoch_number=N_EPOCHS,title=title,root_path=root_path)\n",
    "\n",
    "title='BiLSTM_CRF-precision-{}'.format(str(N_EPOCHS))\n",
    "\n",
    "drawpic(train_loss_list=train_precision_list,test_loss_list=valid_precision_list,epoch_number=N_EPOCHS,title=title,root_path=root_path)\n",
    "\n",
    "title='BiLSTM_CRF-recall-{}'.format(str(N_EPOCHS))\n",
    "\n",
    "drawpic(train_loss_list=train_recall_list,test_loss_list=valid_recall_list,epoch_number=N_EPOCHS,title=title,root_path=root_path)"
   ]
  },
  {
   "cell_type": "code",
   "execution_count": 9,
   "metadata": {},
   "outputs": [
    {
     "ename": "FileNotFoundError",
     "evalue": "[Errno 2] No such file or directory: 'tut1-model.pt'",
     "output_type": "error",
     "traceback": [
      "\u001b[1;31m---------------------------------------------------------------------------\u001b[0m",
      "\u001b[1;31mFileNotFoundError\u001b[0m                         Traceback (most recent call last)",
      "\u001b[1;32m~\\AppData\\Local\\Temp/ipykernel_36652/1920486072.py\u001b[0m in \u001b[0;36m<module>\u001b[1;34m\u001b[0m\n\u001b[1;32m----> 1\u001b[1;33m \u001b[0mmodel\u001b[0m\u001b[1;33m.\u001b[0m\u001b[0mload_state_dict\u001b[0m\u001b[1;33m(\u001b[0m\u001b[0mtorch\u001b[0m\u001b[1;33m.\u001b[0m\u001b[0mload\u001b[0m\u001b[1;33m(\u001b[0m\u001b[1;34m'tut1-model.pt'\u001b[0m\u001b[1;33m)\u001b[0m\u001b[1;33m)\u001b[0m\u001b[1;33m\u001b[0m\u001b[1;33m\u001b[0m\u001b[0m\n\u001b[0m\u001b[0;32m      2\u001b[0m \u001b[1;33m\u001b[0m\u001b[0m\n",
      "\u001b[1;32mC:\\ProgramData\\Anaconda3\\envs\\torch\\lib\\site-packages\\torch\\serialization.py\u001b[0m in \u001b[0;36mload\u001b[1;34m(f, map_location, pickle_module, **pickle_load_args)\u001b[0m\n\u001b[0;32m    592\u001b[0m         \u001b[0mpickle_load_args\u001b[0m\u001b[1;33m[\u001b[0m\u001b[1;34m'encoding'\u001b[0m\u001b[1;33m]\u001b[0m \u001b[1;33m=\u001b[0m \u001b[1;34m'utf-8'\u001b[0m\u001b[1;33m\u001b[0m\u001b[1;33m\u001b[0m\u001b[0m\n\u001b[0;32m    593\u001b[0m \u001b[1;33m\u001b[0m\u001b[0m\n\u001b[1;32m--> 594\u001b[1;33m     \u001b[1;32mwith\u001b[0m \u001b[0m_open_file_like\u001b[0m\u001b[1;33m(\u001b[0m\u001b[0mf\u001b[0m\u001b[1;33m,\u001b[0m \u001b[1;34m'rb'\u001b[0m\u001b[1;33m)\u001b[0m \u001b[1;32mas\u001b[0m \u001b[0mopened_file\u001b[0m\u001b[1;33m:\u001b[0m\u001b[1;33m\u001b[0m\u001b[1;33m\u001b[0m\u001b[0m\n\u001b[0m\u001b[0;32m    595\u001b[0m         \u001b[1;32mif\u001b[0m \u001b[0m_is_zipfile\u001b[0m\u001b[1;33m(\u001b[0m\u001b[0mopened_file\u001b[0m\u001b[1;33m)\u001b[0m\u001b[1;33m:\u001b[0m\u001b[1;33m\u001b[0m\u001b[1;33m\u001b[0m\u001b[0m\n\u001b[0;32m    596\u001b[0m             \u001b[1;31m# The zipfile reader is going to advance the current file position.\u001b[0m\u001b[1;33m\u001b[0m\u001b[1;33m\u001b[0m\u001b[0m\n",
      "\u001b[1;32mC:\\ProgramData\\Anaconda3\\envs\\torch\\lib\\site-packages\\torch\\serialization.py\u001b[0m in \u001b[0;36m_open_file_like\u001b[1;34m(name_or_buffer, mode)\u001b[0m\n\u001b[0;32m    228\u001b[0m \u001b[1;32mdef\u001b[0m \u001b[0m_open_file_like\u001b[0m\u001b[1;33m(\u001b[0m\u001b[0mname_or_buffer\u001b[0m\u001b[1;33m,\u001b[0m \u001b[0mmode\u001b[0m\u001b[1;33m)\u001b[0m\u001b[1;33m:\u001b[0m\u001b[1;33m\u001b[0m\u001b[1;33m\u001b[0m\u001b[0m\n\u001b[0;32m    229\u001b[0m     \u001b[1;32mif\u001b[0m \u001b[0m_is_path\u001b[0m\u001b[1;33m(\u001b[0m\u001b[0mname_or_buffer\u001b[0m\u001b[1;33m)\u001b[0m\u001b[1;33m:\u001b[0m\u001b[1;33m\u001b[0m\u001b[1;33m\u001b[0m\u001b[0m\n\u001b[1;32m--> 230\u001b[1;33m         \u001b[1;32mreturn\u001b[0m \u001b[0m_open_file\u001b[0m\u001b[1;33m(\u001b[0m\u001b[0mname_or_buffer\u001b[0m\u001b[1;33m,\u001b[0m \u001b[0mmode\u001b[0m\u001b[1;33m)\u001b[0m\u001b[1;33m\u001b[0m\u001b[1;33m\u001b[0m\u001b[0m\n\u001b[0m\u001b[0;32m    231\u001b[0m     \u001b[1;32melse\u001b[0m\u001b[1;33m:\u001b[0m\u001b[1;33m\u001b[0m\u001b[1;33m\u001b[0m\u001b[0m\n\u001b[0;32m    232\u001b[0m         \u001b[1;32mif\u001b[0m \u001b[1;34m'w'\u001b[0m \u001b[1;32min\u001b[0m \u001b[0mmode\u001b[0m\u001b[1;33m:\u001b[0m\u001b[1;33m\u001b[0m\u001b[1;33m\u001b[0m\u001b[0m\n",
      "\u001b[1;32mC:\\ProgramData\\Anaconda3\\envs\\torch\\lib\\site-packages\\torch\\serialization.py\u001b[0m in \u001b[0;36m__init__\u001b[1;34m(self, name, mode)\u001b[0m\n\u001b[0;32m    209\u001b[0m \u001b[1;32mclass\u001b[0m \u001b[0m_open_file\u001b[0m\u001b[1;33m(\u001b[0m\u001b[0m_opener\u001b[0m\u001b[1;33m)\u001b[0m\u001b[1;33m:\u001b[0m\u001b[1;33m\u001b[0m\u001b[1;33m\u001b[0m\u001b[0m\n\u001b[0;32m    210\u001b[0m     \u001b[1;32mdef\u001b[0m \u001b[0m__init__\u001b[0m\u001b[1;33m(\u001b[0m\u001b[0mself\u001b[0m\u001b[1;33m,\u001b[0m \u001b[0mname\u001b[0m\u001b[1;33m,\u001b[0m \u001b[0mmode\u001b[0m\u001b[1;33m)\u001b[0m\u001b[1;33m:\u001b[0m\u001b[1;33m\u001b[0m\u001b[1;33m\u001b[0m\u001b[0m\n\u001b[1;32m--> 211\u001b[1;33m         \u001b[0msuper\u001b[0m\u001b[1;33m(\u001b[0m\u001b[0m_open_file\u001b[0m\u001b[1;33m,\u001b[0m \u001b[0mself\u001b[0m\u001b[1;33m)\u001b[0m\u001b[1;33m.\u001b[0m\u001b[0m__init__\u001b[0m\u001b[1;33m(\u001b[0m\u001b[0mopen\u001b[0m\u001b[1;33m(\u001b[0m\u001b[0mname\u001b[0m\u001b[1;33m,\u001b[0m \u001b[0mmode\u001b[0m\u001b[1;33m)\u001b[0m\u001b[1;33m)\u001b[0m\u001b[1;33m\u001b[0m\u001b[1;33m\u001b[0m\u001b[0m\n\u001b[0m\u001b[0;32m    212\u001b[0m \u001b[1;33m\u001b[0m\u001b[0m\n\u001b[0;32m    213\u001b[0m     \u001b[1;32mdef\u001b[0m \u001b[0m__exit__\u001b[0m\u001b[1;33m(\u001b[0m\u001b[0mself\u001b[0m\u001b[1;33m,\u001b[0m \u001b[1;33m*\u001b[0m\u001b[0margs\u001b[0m\u001b[1;33m)\u001b[0m\u001b[1;33m:\u001b[0m\u001b[1;33m\u001b[0m\u001b[1;33m\u001b[0m\u001b[0m\n",
      "\u001b[1;31mFileNotFoundError\u001b[0m: [Errno 2] No such file or directory: 'tut1-model.pt'"
     ]
    }
   ],
   "source": [
    "model.load_state_dict(torch.load('tut1-model.pt'))\n",
    "\n"
   ]
  }
 ],
 "metadata": {
  "interpreter": {
   "hash": "b69a98d3df882577ba469635c4ab08c5ae67eaedfd3a57f311f98966a6edb2d0"
  },
  "kernelspec": {
   "display_name": "Python 3.9.7 64-bit ('torch': conda)",
   "language": "python",
   "name": "python3"
  },
  "language_info": {
   "codemirror_mode": {
    "name": "ipython",
    "version": 3
   },
   "file_extension": ".py",
   "mimetype": "text/x-python",
   "name": "python",
   "nbconvert_exporter": "python",
   "pygments_lexer": "ipython3",
   "version": "3.9.7"
  },
  "orig_nbformat": 4
 },
 "nbformat": 4,
 "nbformat_minor": 2
}
